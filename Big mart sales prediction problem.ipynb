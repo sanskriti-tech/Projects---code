{
 "cells": [
  {
   "cell_type": "code",
   "execution_count": 1,
   "metadata": {},
   "outputs": [],
   "source": [
    "import numpy as np\n",
    "import pandas as pd"
   ]
  },
  {
   "cell_type": "code",
   "execution_count": 2,
   "metadata": {},
   "outputs": [],
   "source": [
    "train = pd.read_csv(\"bigmart_train.csv\")"
   ]
  },
  {
   "cell_type": "code",
   "execution_count": 3,
   "metadata": {},
   "outputs": [
    {
     "data": {
      "text/html": [
       "<div>\n",
       "<style scoped>\n",
       "    .dataframe tbody tr th:only-of-type {\n",
       "        vertical-align: middle;\n",
       "    }\n",
       "\n",
       "    .dataframe tbody tr th {\n",
       "        vertical-align: top;\n",
       "    }\n",
       "\n",
       "    .dataframe thead th {\n",
       "        text-align: right;\n",
       "    }\n",
       "</style>\n",
       "<table border=\"1\" class=\"dataframe\">\n",
       "  <thead>\n",
       "    <tr style=\"text-align: right;\">\n",
       "      <th></th>\n",
       "      <th>Item_Identifier</th>\n",
       "      <th>Item_Weight</th>\n",
       "      <th>Item_Fat_Content</th>\n",
       "      <th>Item_Visibility</th>\n",
       "      <th>Item_Type</th>\n",
       "      <th>Item_MRP</th>\n",
       "      <th>Outlet_Identifier</th>\n",
       "      <th>Outlet_Establishment_Year</th>\n",
       "      <th>Outlet_Size</th>\n",
       "      <th>Outlet_Location_Type</th>\n",
       "      <th>Outlet_Type</th>\n",
       "      <th>Item_Outlet_Sales</th>\n",
       "    </tr>\n",
       "  </thead>\n",
       "  <tbody>\n",
       "    <tr>\n",
       "      <th>0</th>\n",
       "      <td>FDA15</td>\n",
       "      <td>9.30</td>\n",
       "      <td>Low Fat</td>\n",
       "      <td>0.016047</td>\n",
       "      <td>Dairy</td>\n",
       "      <td>249.8092</td>\n",
       "      <td>OUT049</td>\n",
       "      <td>1999</td>\n",
       "      <td>Medium</td>\n",
       "      <td>Tier 1</td>\n",
       "      <td>Supermarket Type1</td>\n",
       "      <td>3735.1380</td>\n",
       "    </tr>\n",
       "    <tr>\n",
       "      <th>1</th>\n",
       "      <td>DRC01</td>\n",
       "      <td>5.92</td>\n",
       "      <td>Regular</td>\n",
       "      <td>0.019278</td>\n",
       "      <td>Soft Drinks</td>\n",
       "      <td>48.2692</td>\n",
       "      <td>OUT018</td>\n",
       "      <td>2009</td>\n",
       "      <td>Medium</td>\n",
       "      <td>Tier 3</td>\n",
       "      <td>Supermarket Type2</td>\n",
       "      <td>443.4228</td>\n",
       "    </tr>\n",
       "    <tr>\n",
       "      <th>2</th>\n",
       "      <td>FDN15</td>\n",
       "      <td>17.50</td>\n",
       "      <td>Low Fat</td>\n",
       "      <td>0.016760</td>\n",
       "      <td>Meat</td>\n",
       "      <td>141.6180</td>\n",
       "      <td>OUT049</td>\n",
       "      <td>1999</td>\n",
       "      <td>Medium</td>\n",
       "      <td>Tier 1</td>\n",
       "      <td>Supermarket Type1</td>\n",
       "      <td>2097.2700</td>\n",
       "    </tr>\n",
       "    <tr>\n",
       "      <th>3</th>\n",
       "      <td>FDX07</td>\n",
       "      <td>19.20</td>\n",
       "      <td>Regular</td>\n",
       "      <td>0.000000</td>\n",
       "      <td>Fruits and Vegetables</td>\n",
       "      <td>182.0950</td>\n",
       "      <td>OUT010</td>\n",
       "      <td>1998</td>\n",
       "      <td>NaN</td>\n",
       "      <td>Tier 3</td>\n",
       "      <td>Grocery Store</td>\n",
       "      <td>732.3800</td>\n",
       "    </tr>\n",
       "    <tr>\n",
       "      <th>4</th>\n",
       "      <td>NCD19</td>\n",
       "      <td>8.93</td>\n",
       "      <td>Low Fat</td>\n",
       "      <td>0.000000</td>\n",
       "      <td>Household</td>\n",
       "      <td>53.8614</td>\n",
       "      <td>OUT013</td>\n",
       "      <td>1987</td>\n",
       "      <td>High</td>\n",
       "      <td>Tier 3</td>\n",
       "      <td>Supermarket Type1</td>\n",
       "      <td>994.7052</td>\n",
       "    </tr>\n",
       "  </tbody>\n",
       "</table>\n",
       "</div>"
      ],
      "text/plain": [
       "  Item_Identifier  Item_Weight Item_Fat_Content  Item_Visibility  \\\n",
       "0           FDA15         9.30          Low Fat         0.016047   \n",
       "1           DRC01         5.92          Regular         0.019278   \n",
       "2           FDN15        17.50          Low Fat         0.016760   \n",
       "3           FDX07        19.20          Regular         0.000000   \n",
       "4           NCD19         8.93          Low Fat         0.000000   \n",
       "\n",
       "               Item_Type  Item_MRP Outlet_Identifier  \\\n",
       "0                  Dairy  249.8092            OUT049   \n",
       "1            Soft Drinks   48.2692            OUT018   \n",
       "2                   Meat  141.6180            OUT049   \n",
       "3  Fruits and Vegetables  182.0950            OUT010   \n",
       "4              Household   53.8614            OUT013   \n",
       "\n",
       "   Outlet_Establishment_Year Outlet_Size Outlet_Location_Type  \\\n",
       "0                       1999      Medium               Tier 1   \n",
       "1                       2009      Medium               Tier 3   \n",
       "2                       1999      Medium               Tier 1   \n",
       "3                       1998         NaN               Tier 3   \n",
       "4                       1987        High               Tier 3   \n",
       "\n",
       "         Outlet_Type  Item_Outlet_Sales  \n",
       "0  Supermarket Type1          3735.1380  \n",
       "1  Supermarket Type2           443.4228  \n",
       "2  Supermarket Type1          2097.2700  \n",
       "3      Grocery Store           732.3800  \n",
       "4  Supermarket Type1           994.7052  "
      ]
     },
     "execution_count": 3,
     "metadata": {},
     "output_type": "execute_result"
    }
   ],
   "source": [
    "train.head()"
   ]
  },
  {
   "cell_type": "code",
   "execution_count": 4,
   "metadata": {},
   "outputs": [],
   "source": [
    "test = pd.read_csv(\"bigmart_test.csv\")"
   ]
  },
  {
   "cell_type": "code",
   "execution_count": 5,
   "metadata": {},
   "outputs": [
    {
     "data": {
      "text/html": [
       "<div>\n",
       "<style scoped>\n",
       "    .dataframe tbody tr th:only-of-type {\n",
       "        vertical-align: middle;\n",
       "    }\n",
       "\n",
       "    .dataframe tbody tr th {\n",
       "        vertical-align: top;\n",
       "    }\n",
       "\n",
       "    .dataframe thead th {\n",
       "        text-align: right;\n",
       "    }\n",
       "</style>\n",
       "<table border=\"1\" class=\"dataframe\">\n",
       "  <thead>\n",
       "    <tr style=\"text-align: right;\">\n",
       "      <th></th>\n",
       "      <th>Item_Identifier</th>\n",
       "      <th>Item_Weight</th>\n",
       "      <th>Item_Fat_Content</th>\n",
       "      <th>Item_Visibility</th>\n",
       "      <th>Item_Type</th>\n",
       "      <th>Item_MRP</th>\n",
       "      <th>Outlet_Identifier</th>\n",
       "      <th>Outlet_Establishment_Year</th>\n",
       "      <th>Outlet_Size</th>\n",
       "      <th>Outlet_Location_Type</th>\n",
       "      <th>Outlet_Type</th>\n",
       "    </tr>\n",
       "  </thead>\n",
       "  <tbody>\n",
       "    <tr>\n",
       "      <th>0</th>\n",
       "      <td>FDW58</td>\n",
       "      <td>20.750</td>\n",
       "      <td>Low Fat</td>\n",
       "      <td>0.007565</td>\n",
       "      <td>Snack Foods</td>\n",
       "      <td>107.8622</td>\n",
       "      <td>OUT049</td>\n",
       "      <td>1999</td>\n",
       "      <td>Medium</td>\n",
       "      <td>Tier 1</td>\n",
       "      <td>Supermarket Type1</td>\n",
       "    </tr>\n",
       "    <tr>\n",
       "      <th>1</th>\n",
       "      <td>FDW14</td>\n",
       "      <td>8.300</td>\n",
       "      <td>reg</td>\n",
       "      <td>0.038428</td>\n",
       "      <td>Dairy</td>\n",
       "      <td>87.3198</td>\n",
       "      <td>OUT017</td>\n",
       "      <td>2007</td>\n",
       "      <td>NaN</td>\n",
       "      <td>Tier 2</td>\n",
       "      <td>Supermarket Type1</td>\n",
       "    </tr>\n",
       "    <tr>\n",
       "      <th>2</th>\n",
       "      <td>NCN55</td>\n",
       "      <td>14.600</td>\n",
       "      <td>Low Fat</td>\n",
       "      <td>0.099575</td>\n",
       "      <td>Others</td>\n",
       "      <td>241.7538</td>\n",
       "      <td>OUT010</td>\n",
       "      <td>1998</td>\n",
       "      <td>NaN</td>\n",
       "      <td>Tier 3</td>\n",
       "      <td>Grocery Store</td>\n",
       "    </tr>\n",
       "    <tr>\n",
       "      <th>3</th>\n",
       "      <td>FDQ58</td>\n",
       "      <td>7.315</td>\n",
       "      <td>Low Fat</td>\n",
       "      <td>0.015388</td>\n",
       "      <td>Snack Foods</td>\n",
       "      <td>155.0340</td>\n",
       "      <td>OUT017</td>\n",
       "      <td>2007</td>\n",
       "      <td>NaN</td>\n",
       "      <td>Tier 2</td>\n",
       "      <td>Supermarket Type1</td>\n",
       "    </tr>\n",
       "    <tr>\n",
       "      <th>4</th>\n",
       "      <td>FDY38</td>\n",
       "      <td>NaN</td>\n",
       "      <td>Regular</td>\n",
       "      <td>0.118599</td>\n",
       "      <td>Dairy</td>\n",
       "      <td>234.2300</td>\n",
       "      <td>OUT027</td>\n",
       "      <td>1985</td>\n",
       "      <td>Medium</td>\n",
       "      <td>Tier 3</td>\n",
       "      <td>Supermarket Type3</td>\n",
       "    </tr>\n",
       "  </tbody>\n",
       "</table>\n",
       "</div>"
      ],
      "text/plain": [
       "  Item_Identifier  Item_Weight Item_Fat_Content  Item_Visibility    Item_Type  \\\n",
       "0           FDW58       20.750          Low Fat         0.007565  Snack Foods   \n",
       "1           FDW14        8.300              reg         0.038428        Dairy   \n",
       "2           NCN55       14.600          Low Fat         0.099575       Others   \n",
       "3           FDQ58        7.315          Low Fat         0.015388  Snack Foods   \n",
       "4           FDY38          NaN          Regular         0.118599        Dairy   \n",
       "\n",
       "   Item_MRP Outlet_Identifier  Outlet_Establishment_Year Outlet_Size  \\\n",
       "0  107.8622            OUT049                       1999      Medium   \n",
       "1   87.3198            OUT017                       2007         NaN   \n",
       "2  241.7538            OUT010                       1998         NaN   \n",
       "3  155.0340            OUT017                       2007         NaN   \n",
       "4  234.2300            OUT027                       1985      Medium   \n",
       "\n",
       "  Outlet_Location_Type        Outlet_Type  \n",
       "0               Tier 1  Supermarket Type1  \n",
       "1               Tier 2  Supermarket Type1  \n",
       "2               Tier 3      Grocery Store  \n",
       "3               Tier 2  Supermarket Type1  \n",
       "4               Tier 3  Supermarket Type3  "
      ]
     },
     "execution_count": 5,
     "metadata": {},
     "output_type": "execute_result"
    }
   ],
   "source": [
    "test.head()"
   ]
  },
  {
   "cell_type": "code",
   "execution_count": 6,
   "metadata": {},
   "outputs": [
    {
     "data": {
      "text/plain": [
       "Item_Identifier                 0\n",
       "Item_Weight                  1463\n",
       "Item_Fat_Content                0\n",
       "Item_Visibility                 0\n",
       "Item_Type                       0\n",
       "Item_MRP                        0\n",
       "Outlet_Identifier               0\n",
       "Outlet_Establishment_Year       0\n",
       "Outlet_Size                  2410\n",
       "Outlet_Location_Type            0\n",
       "Outlet_Type                     0\n",
       "Item_Outlet_Sales               0\n",
       "dtype: int64"
      ]
     },
     "execution_count": 6,
     "metadata": {},
     "output_type": "execute_result"
    }
   ],
   "source": [
    "train.isnull().sum()"
   ]
  },
  {
   "cell_type": "code",
   "execution_count": 7,
   "metadata": {},
   "outputs": [
    {
     "data": {
      "text/plain": [
       "Item_Identifier              0.000000\n",
       "Item_Weight                  0.171653\n",
       "Item_Fat_Content             0.000000\n",
       "Item_Visibility              0.000000\n",
       "Item_Type                    0.000000\n",
       "Item_MRP                     0.000000\n",
       "Outlet_Identifier            0.000000\n",
       "Outlet_Establishment_Year    0.000000\n",
       "Outlet_Size                  0.282764\n",
       "Outlet_Location_Type         0.000000\n",
       "Outlet_Type                  0.000000\n",
       "Item_Outlet_Sales            0.000000\n",
       "dtype: float64"
      ]
     },
     "execution_count": 7,
     "metadata": {},
     "output_type": "execute_result"
    }
   ],
   "source": [
    "train.isnull().sum()/len(train)"
   ]
  },
  {
   "cell_type": "code",
   "execution_count": 8,
   "metadata": {},
   "outputs": [
    {
     "data": {
      "text/plain": [
       "8523"
      ]
     },
     "execution_count": 8,
     "metadata": {},
     "output_type": "execute_result"
    }
   ],
   "source": [
    "len(train)"
   ]
  },
  {
   "cell_type": "code",
   "execution_count": 9,
   "metadata": {},
   "outputs": [
    {
     "name": "stdout",
     "output_type": "stream",
     "text": [
      "<class 'pandas.core.frame.DataFrame'>\n",
      "RangeIndex: 8523 entries, 0 to 8522\n",
      "Data columns (total 12 columns):\n",
      "Item_Identifier              8523 non-null object\n",
      "Item_Weight                  7060 non-null float64\n",
      "Item_Fat_Content             8523 non-null object\n",
      "Item_Visibility              8523 non-null float64\n",
      "Item_Type                    8523 non-null object\n",
      "Item_MRP                     8523 non-null float64\n",
      "Outlet_Identifier            8523 non-null object\n",
      "Outlet_Establishment_Year    8523 non-null int64\n",
      "Outlet_Size                  6113 non-null object\n",
      "Outlet_Location_Type         8523 non-null object\n",
      "Outlet_Type                  8523 non-null object\n",
      "Item_Outlet_Sales            8523 non-null float64\n",
      "dtypes: float64(4), int64(1), object(7)\n",
      "memory usage: 799.1+ KB\n"
     ]
    }
   ],
   "source": [
    "train.info()"
   ]
  },
  {
   "cell_type": "code",
   "execution_count": 10,
   "metadata": {},
   "outputs": [
    {
     "data": {
      "text/plain": [
       "5681"
      ]
     },
     "execution_count": 10,
     "metadata": {},
     "output_type": "execute_result"
    }
   ],
   "source": [
    "len(test)"
   ]
  },
  {
   "cell_type": "code",
   "execution_count": 11,
   "metadata": {},
   "outputs": [
    {
     "data": {
      "text/plain": [
       "Item_Identifier                 0\n",
       "Item_Weight                   976\n",
       "Item_Fat_Content                0\n",
       "Item_Visibility                 0\n",
       "Item_Type                       0\n",
       "Item_MRP                        0\n",
       "Outlet_Identifier               0\n",
       "Outlet_Establishment_Year       0\n",
       "Outlet_Size                  1606\n",
       "Outlet_Location_Type            0\n",
       "Outlet_Type                     0\n",
       "dtype: int64"
      ]
     },
     "execution_count": 11,
     "metadata": {},
     "output_type": "execute_result"
    }
   ],
   "source": [
    "test.isnull().sum()"
   ]
  },
  {
   "cell_type": "code",
   "execution_count": 12,
   "metadata": {},
   "outputs": [
    {
     "data": {
      "text/plain": [
       "Item_Identifier              0.000000\n",
       "Item_Weight                  0.171801\n",
       "Item_Fat_Content             0.000000\n",
       "Item_Visibility              0.000000\n",
       "Item_Type                    0.000000\n",
       "Item_MRP                     0.000000\n",
       "Outlet_Identifier            0.000000\n",
       "Outlet_Establishment_Year    0.000000\n",
       "Outlet_Size                  0.282697\n",
       "Outlet_Location_Type         0.000000\n",
       "Outlet_Type                  0.000000\n",
       "dtype: float64"
      ]
     },
     "execution_count": 12,
     "metadata": {},
     "output_type": "execute_result"
    }
   ],
   "source": [
    "test.isnull().sum()/len(test)"
   ]
  },
  {
   "cell_type": "markdown",
   "metadata": {},
   "source": [
    "# EDA"
   ]
  },
  {
   "cell_type": "code",
   "execution_count": 13,
   "metadata": {},
   "outputs": [],
   "source": [
    "import seaborn as sns\n",
    "import matplotlib.pyplot as plt\n",
    "%matplotlib inline"
   ]
  },
  {
   "cell_type": "code",
   "execution_count": 14,
   "metadata": {},
   "outputs": [
    {
     "name": "stderr",
     "output_type": "stream",
     "text": [
      "C:\\ProgramData\\Anaconda3\\lib\\site-packages\\statsmodels\\nonparametric\\kde.py:448: RuntimeWarning: invalid value encountered in greater\n",
      "  X = X[np.logical_and(X > clip[0], X < clip[1])] # won't work for two columns.\n",
      "C:\\ProgramData\\Anaconda3\\lib\\site-packages\\statsmodels\\nonparametric\\kde.py:448: RuntimeWarning: invalid value encountered in less\n",
      "  X = X[np.logical_and(X > clip[0], X < clip[1])] # won't work for two columns.\n"
     ]
    },
    {
     "data": {
      "text/plain": [
       "<matplotlib.axes._subplots.AxesSubplot at 0x1e8bb433e10>"
      ]
     },
     "execution_count": 14,
     "metadata": {},
     "output_type": "execute_result"
    },
    {
     "data": {
      "image/png": "[encoded data removed]",
      "text/plain": [
       "<Figure size 432x288 with 1 Axes>"
      ]
     },
     "metadata": {},
     "output_type": "display_data"
    }
   ],
   "source": [
    "sns.kdeplot(train['Item_Weight'])\n",
    "\n",
    "#weight of the products range from below 5 to above 20.\n",
    "#most products have weight between 5-10."
   ]
  },
  {
   "cell_type": "code",
   "execution_count": 15,
   "metadata": {},
   "outputs": [
    {
     "data": {
      "text/plain": [
       "<matplotlib.axes._subplots.AxesSubplot at 0x1e8bc7e2ba8>"
      ]
     },
     "execution_count": 15,
     "metadata": {},
     "output_type": "execute_result"
    },
    {
     "data": {
      "image/png": "[encoded data removed]",
      "text/plain": [
       "<Figure size 432x288 with 1 Axes>"
      ]
     },
     "metadata": {},
     "output_type": "display_data"
    }
   ],
   "source": [
    "train['Item_Fat_Content'].value_counts().plot(kind = 'bar')\n",
    "\n",
    "#majority of products have low fat content."
   ]
  },
  {
   "cell_type": "code",
   "execution_count": 16,
   "metadata": {},
   "outputs": [
    {
     "data": {
      "text/plain": [
       "<matplotlib.axes._subplots.AxesSubplot at 0x1e8bc6ce2b0>"
      ]
     },
     "execution_count": 16,
     "metadata": {},
     "output_type": "execute_result"
    },
    {
     "data": {
      "image/png": "[encoded data removed]",
      "text/plain": [
       "<Figure size 432x288 with 1 Axes>"
      ]
     },
     "metadata": {},
     "output_type": "display_data"
    }
   ],
   "source": [
    "sns.kdeplot(train['Item_Visibility'])\n",
    "\n",
    "#products have visibility in range of 0.00 - 0.35 with very less products having visibility beyond 0.20\n",
    "#majority of products have visibility between 0.00 - 0.05."
   ]
  },
  {
   "cell_type": "code",
   "execution_count": 17,
   "metadata": {},
   "outputs": [
    {
     "data": {
      "text/plain": [
       "<matplotlib.axes._subplots.AxesSubplot at 0x1e8bc7bd898>"
      ]
     },
     "execution_count": 17,
     "metadata": {},
     "output_type": "execute_result"
    },
    {
     "data": {
      "image/png": "[encoded data removed]",
      "text/plain": [
       "<Figure size 432x288 with 1 Axes>"
      ]
     },
     "metadata": {},
     "output_type": "display_data"
    }
   ],
   "source": [
    "train['Item_Type'].value_counts().plot(kind = 'bar')\n",
    "\n",
    "#fruits & veges and snack products make majority of total products. wherein breakfast foods and seafoods pertaining to least."
   ]
  },
  {
   "cell_type": "code",
   "execution_count": 18,
   "metadata": {},
   "outputs": [
    {
     "data": {
      "text/plain": [
       "<matplotlib.axes._subplots.AxesSubplot at 0x1e8bc9a3ba8>"
      ]
     },
     "execution_count": 18,
     "metadata": {},
     "output_type": "execute_result"
    },
    {
     "data": {
      "image/png": "[encoded data removed]",
      "text/plain": [
       "<Figure size 432x288 with 1 Axes>"
      ]
     },
     "metadata": {},
     "output_type": "display_data"
    }
   ],
   "source": [
    "sns.kdeplot(train['Item_MRP'])\n",
    "\n",
    "#Products have a price range of 0 - 300 Rs. "
   ]
  },
  {
   "cell_type": "code",
   "execution_count": 19,
   "metadata": {},
   "outputs": [
    {
     "data": {
      "text/plain": [
       "<matplotlib.axes._subplots.AxesSubplot at 0x1e8bca332e8>"
      ]
     },
     "execution_count": 19,
     "metadata": {},
     "output_type": "execute_result"
    },
    {
     "data": {
      "image/png": "[encoded data removed]",
      "text/plain": [
       "<Figure size 432x288 with 1 Axes>"
      ]
     },
     "metadata": {},
     "output_type": "display_data"
    }
   ],
   "source": [
    "train['Outlet_Identifier'].value_counts().plot(kind = 'bar')\n",
    "\n",
    "#apart from outlet no. 10 and 19 every other outlets have majority count."
   ]
  },
  {
   "cell_type": "code",
   "execution_count": 20,
   "metadata": {},
   "outputs": [
    {
     "data": {
      "text/plain": [
       "<matplotlib.axes._subplots.AxesSubplot at 0x1e8bc7bd1d0>"
      ]
     },
     "execution_count": 20,
     "metadata": {},
     "output_type": "execute_result"
    },
    {
     "data": {
      "image/png": "[encoded data removed]",
      "text/plain": [
       "<Figure size 432x288 with 1 Axes>"
      ]
     },
     "metadata": {},
     "output_type": "display_data"
    }
   ],
   "source": [
    "train['Outlet_Establishment_Year'].value_counts().plot(kind = 'bar')\n",
    "\n",
    "#majority of the outlets were established in 1985.\n",
    "\n",
    "# very less outlets were established in 1998.\n",
    "\n",
    "#apart from 1985 & 1998, in all other years same no. of outlets are open!!"
   ]
  },
  {
   "cell_type": "code",
   "execution_count": 21,
   "metadata": {},
   "outputs": [
    {
     "data": {
      "text/plain": [
       "<matplotlib.axes._subplots.AxesSubplot at 0x1e8bcd54240>"
      ]
     },
     "execution_count": 21,
     "metadata": {},
     "output_type": "execute_result"
    },
    {
     "data": {
      "image/png": "[encoded data removed]",
      "text/plain": [
       "<Figure size 432x288 with 1 Axes>"
      ]
     },
     "metadata": {},
     "output_type": "display_data"
    }
   ],
   "source": [
    "train['Outlet_Size'].value_counts().plot(kind = 'bar')\n",
    "\n",
    "#majority of the outlets are medium sized and small sized. very few are high sized outlets."
   ]
  },
  {
   "cell_type": "code",
   "execution_count": 22,
   "metadata": {},
   "outputs": [
    {
     "data": {
      "text/plain": [
       "<matplotlib.axes._subplots.AxesSubplot at 0x1e8bce37198>"
      ]
     },
     "execution_count": 22,
     "metadata": {},
     "output_type": "execute_result"
    },
    {
     "data": {
      "image/png": "[encoded data removed]",
      "text/plain": [
       "<Figure size 432x288 with 1 Axes>"
      ]
     },
     "metadata": {},
     "output_type": "display_data"
    }
   ],
   "source": [
    "train['Outlet_Location_Type'].value_counts().plot(kind = 'bar')\n",
    "\n",
    "#maximum of the outlets have tier3 location type. minority are the outlets placed in tier 1 location."
   ]
  },
  {
   "cell_type": "code",
   "execution_count": 23,
   "metadata": {},
   "outputs": [
    {
     "data": {
      "text/plain": [
       "<matplotlib.axes._subplots.AxesSubplot at 0x1e8bce92828>"
      ]
     },
     "execution_count": 23,
     "metadata": {},
     "output_type": "execute_result"
    },
    {
     "data": {
      "image/png": "[encoded data removed]",
      "text/plain": [
       "<Figure size 432x288 with 1 Axes>"
      ]
     },
     "metadata": {},
     "output_type": "display_data"
    }
   ],
   "source": [
    "train['Outlet_Type'].value_counts().plot(kind = 'bar')\n",
    "\n",
    "#majority of the outlets come under supermarket category. being more specifically from type1. => which implies them to of small & medium sized and of tier 3 location type."
   ]
  },
  {
   "cell_type": "code",
   "execution_count": 24,
   "metadata": {},
   "outputs": [
    {
     "data": {
      "text/plain": [
       "<matplotlib.axes._subplots.AxesSubplot at 0x1e8bcdddda0>"
      ]
     },
     "execution_count": 24,
     "metadata": {},
     "output_type": "execute_result"
    },
    {
     "data": {
      "image/png": "[encoded data removed]",
      "text/plain": [
       "<Figure size 432x288 with 1 Axes>"
      ]
     },
     "metadata": {},
     "output_type": "display_data"
    }
   ],
   "source": [
    "sns.kdeplot(train['Item_Outlet_Sales'])\n",
    "\n",
    "#outlet sales range from 0 - 6000 with very few sales value beyond 6000.\n",
    "#majority of outlets'sales value lies within 0 - 2000 range."
   ]
  },
  {
   "cell_type": "code",
   "execution_count": 25,
   "metadata": {},
   "outputs": [
    {
     "data": {
      "text/plain": [
       "<matplotlib.collections.PathCollection at 0x1e8bcf66eb8>"
      ]
     },
     "execution_count": 25,
     "metadata": {},
     "output_type": "execute_result"
    },
    {
     "data": {
      "image/png": "[encoded data removed]",
      "text/plain": [
       "<Figure size 432x288 with 1 Axes>"
      ]
     },
     "metadata": {},
     "output_type": "display_data"
    }
   ],
   "source": [
    "plt.scatter(train['Item_Weight'],train['Item_Outlet_Sales'])"
   ]
  },
  {
   "cell_type": "code",
   "execution_count": 26,
   "metadata": {},
   "outputs": [],
   "source": [
    "g = train.groupby(train['Item_Fat_Content'])"
   ]
  },
  {
   "cell_type": "code",
   "execution_count": 27,
   "metadata": {},
   "outputs": [
    {
     "data": {
      "text/plain": [
       "Low Fat    5089\n",
       "Regular    2889\n",
       "LF          316\n",
       "reg         117\n",
       "low fat     112\n",
       "Name: Item_Fat_Content, dtype: int64"
      ]
     },
     "execution_count": 27,
     "metadata": {},
     "output_type": "execute_result"
    }
   ],
   "source": [
    "train['Item_Fat_Content'].value_counts()"
   ]
  },
  {
   "cell_type": "code",
   "execution_count": 28,
   "metadata": {},
   "outputs": [
    {
     "data": {
      "image/png": "[encoded data removed]",
      "text/plain": [
       "<Figure size 432x288 with 1 Axes>"
      ]
     },
     "metadata": {},
     "output_type": "display_data"
    }
   ],
   "source": [
    "#LOW FAT\n",
    "g1 = g.get_group('Low Fat')['Item_Outlet_Sales'].plot(kind = 'hist')"
   ]
  },
  {
   "cell_type": "code",
   "execution_count": 29,
   "metadata": {},
   "outputs": [
    {
     "data": {
      "image/png": "[encoded data removed]",
      "text/plain": [
       "<Figure size 432x288 with 1 Axes>"
      ]
     },
     "metadata": {},
     "output_type": "display_data"
    }
   ],
   "source": [
    "#Regular\n",
    "g2 = g.get_group('Regular')['Item_Outlet_Sales'].plot(kind = 'hist')"
   ]
  },
  {
   "cell_type": "code",
   "execution_count": 30,
   "metadata": {},
   "outputs": [
    {
     "data": {
      "image/png": "[encoded data removed]",
      "text/plain": [
       "<Figure size 432x288 with 1 Axes>"
      ]
     },
     "metadata": {},
     "output_type": "display_data"
    }
   ],
   "source": [
    "#LF\n",
    "g3  = g.get_group('LF')['Item_Outlet_Sales'].plot(kind = 'hist')"
   ]
  },
  {
   "cell_type": "code",
   "execution_count": 31,
   "metadata": {},
   "outputs": [
    {
     "data": {
      "image/png": "[encoded data removed]",
      "text/plain": [
       "<Figure size 432x288 with 1 Axes>"
      ]
     },
     "metadata": {},
     "output_type": "display_data"
    }
   ],
   "source": [
    "#reg\n",
    "g4 = g.get_group('reg')['Item_Outlet_Sales'].plot(kind = 'hist')"
   ]
  },
  {
   "cell_type": "code",
   "execution_count": 32,
   "metadata": {},
   "outputs": [
    {
     "data": {
      "image/png": "[encoded data removed]",
      "text/plain": [
       "<Figure size 432x288 with 1 Axes>"
      ]
     },
     "metadata": {},
     "output_type": "display_data"
    }
   ],
   "source": [
    "#low fat\n",
    "g5 = g.get_group('low fat')['Item_Outlet_Sales'].plot(kind = 'hist')"
   ]
  },
  {
   "cell_type": "code",
   "execution_count": 33,
   "metadata": {},
   "outputs": [
    {
     "data": {
      "text/plain": [
       "<matplotlib.collections.PathCollection at 0x1e8bd220668>"
      ]
     },
     "execution_count": 33,
     "metadata": {},
     "output_type": "execute_result"
    },
    {
     "data": {
      "image/png": "[encoded data removed]",
      "text/plain": [
       "<Figure size 432x288 with 1 Axes>"
      ]
     },
     "metadata": {},
     "output_type": "display_data"
    }
   ],
   "source": [
    "plt.scatter(train['Item_Visibility'],train['Item_Outlet_Sales'])"
   ]
  },
  {
   "cell_type": "code",
   "execution_count": 34,
   "metadata": {},
   "outputs": [
    {
     "data": {
      "text/plain": [
       "Fruits and Vegetables    1232\n",
       "Snack Foods              1200\n",
       "Household                 910\n",
       "Frozen Foods              856\n",
       "Dairy                     682\n",
       "Canned                    649\n",
       "Baking Goods              648\n",
       "Health and Hygiene        520\n",
       "Soft Drinks               445\n",
       "Meat                      425\n",
       "Breads                    251\n",
       "Hard Drinks               214\n",
       "Others                    169\n",
       "Starchy Foods             148\n",
       "Breakfast                 110\n",
       "Seafood                    64\n",
       "Name: Item_Type, dtype: int64"
      ]
     },
     "execution_count": 34,
     "metadata": {},
     "output_type": "execute_result"
    }
   ],
   "source": [
    "train['Item_Type'].value_counts()"
   ]
  },
  {
   "cell_type": "code",
   "execution_count": 35,
   "metadata": {},
   "outputs": [],
   "source": [
    "k = train.groupby(train['Item_Type'])"
   ]
  },
  {
   "cell_type": "code",
   "execution_count": 36,
   "metadata": {},
   "outputs": [
    {
     "data": {
      "text/plain": [
       "<matplotlib.axes._subplots.AxesSubplot at 0x1e8bd24b5c0>"
      ]
     },
     "execution_count": 36,
     "metadata": {},
     "output_type": "execute_result"
    },
    {
     "data": {
      "image/png": "[encoded data removed]",
      "text/plain": [
       "<Figure size 432x288 with 1 Axes>"
      ]
     },
     "metadata": {},
     "output_type": "display_data"
    }
   ],
   "source": [
    "#fruits & veges\n",
    "k1 = k.get_group('Fruits and Vegetables')['Item_Outlet_Sales']\n",
    "sns.kdeplot(k1)"
   ]
  },
  {
   "cell_type": "code",
   "execution_count": 37,
   "metadata": {},
   "outputs": [
    {
     "data": {
      "text/plain": [
       "count     1232.000000\n",
       "mean      2289.009592\n",
       "std       1799.503459\n",
       "min         45.274400\n",
       "25%        884.848200\n",
       "50%       1830.950000\n",
       "75%       3227.132600\n",
       "max      12117.560000\n",
       "Name: Item_Outlet_Sales, dtype: float64"
      ]
     },
     "execution_count": 37,
     "metadata": {},
     "output_type": "execute_result"
    }
   ],
   "source": [
    "k1.describe()"
   ]
  },
  {
   "cell_type": "code",
   "execution_count": 38,
   "metadata": {},
   "outputs": [
    {
     "data": {
      "text/plain": [
       "<matplotlib.axes._subplots.AxesSubplot at 0x1e8be286908>"
      ]
     },
     "execution_count": 38,
     "metadata": {},
     "output_type": "execute_result"
    },
    {
     "data": {
      "image/png": "[encoded data removed]",
      "text/plain": [
       "<Figure size 432x288 with 1 Axes>"
      ]
     },
     "metadata": {},
     "output_type": "display_data"
    }
   ],
   "source": [
    "#snacks\n",
    "k2 = k.get_group('Snack Foods')['Item_Outlet_Sales']\n",
    "sns.kdeplot(k2)"
   ]
  },
  {
   "cell_type": "code",
   "execution_count": 39,
   "metadata": {},
   "outputs": [
    {
     "data": {
      "text/plain": [
       "count     1200.000000\n",
       "mean      2277.321739\n",
       "std       1705.121755\n",
       "min         33.955800\n",
       "25%        918.804000\n",
       "50%       1944.136000\n",
       "75%       3143.574700\n",
       "max      10993.689600\n",
       "Name: Item_Outlet_Sales, dtype: float64"
      ]
     },
     "execution_count": 39,
     "metadata": {},
     "output_type": "execute_result"
    }
   ],
   "source": [
    "k2.describe()"
   ]
  },
  {
   "cell_type": "code",
   "execution_count": 40,
   "metadata": {},
   "outputs": [
    {
     "data": {
      "text/plain": [
       "<matplotlib.axes._subplots.AxesSubplot at 0x1e8be274320>"
      ]
     },
     "execution_count": 40,
     "metadata": {},
     "output_type": "execute_result"
    },
    {
     "data": {
      "image/png": "[encoded data removed]",
      "text/plain": [
       "<Figure size 432x288 with 1 Axes>"
      ]
     },
     "metadata": {},
     "output_type": "display_data"
    }
   ],
   "source": [
    "#household\n",
    "k3 = k.get_group('Household')['Item_Outlet_Sales']\n",
    "sns.kdeplot(k3)"
   ]
  },
  {
   "cell_type": "code",
   "execution_count": 41,
   "metadata": {},
   "outputs": [
    {
     "data": {
      "text/plain": [
       "count      910.000000\n",
       "mean      2258.784300\n",
       "std       1692.245757\n",
       "min         33.290000\n",
       "25%        853.389150\n",
       "50%       1981.420800\n",
       "75%       3236.786700\n",
       "max      13086.964800\n",
       "Name: Item_Outlet_Sales, dtype: float64"
      ]
     },
     "execution_count": 41,
     "metadata": {},
     "output_type": "execute_result"
    }
   ],
   "source": [
    "k3.describe()"
   ]
  },
  {
   "cell_type": "code",
   "execution_count": 42,
   "metadata": {},
   "outputs": [
    {
     "data": {
      "text/plain": [
       "<matplotlib.axes._subplots.AxesSubplot at 0x1e8be334ef0>"
      ]
     },
     "execution_count": 42,
     "metadata": {},
     "output_type": "execute_result"
    },
    {
     "data": {
      "image/png": "[encoded data removed]",
      "text/plain": [
       "<Figure size 432x288 with 1 Axes>"
      ]
     },
     "metadata": {},
     "output_type": "display_data"
    }
   ],
   "source": [
    "#frozen foods\n",
    "k4 = k.get_group('Frozen Foods')['Item_Outlet_Sales']\n",
    "sns.kdeplot(k4)"
   ]
  },
  {
   "cell_type": "code",
   "execution_count": 43,
   "metadata": {},
   "outputs": [
    {
     "data": {
      "text/plain": [
       "count     856.000000\n",
       "mean     2132.867744\n",
       "std      1724.777720\n",
       "min        36.619000\n",
       "25%       808.947000\n",
       "50%      1687.137200\n",
       "75%      3079.491450\n",
       "max      9678.068800\n",
       "Name: Item_Outlet_Sales, dtype: float64"
      ]
     },
     "execution_count": 43,
     "metadata": {},
     "output_type": "execute_result"
    }
   ],
   "source": [
    "k4.describe()"
   ]
  },
  {
   "cell_type": "code",
   "execution_count": 44,
   "metadata": {},
   "outputs": [
    {
     "data": {
      "text/plain": [
       "<matplotlib.axes._subplots.AxesSubplot at 0x1e8be349128>"
      ]
     },
     "execution_count": 44,
     "metadata": {},
     "output_type": "execute_result"
    },
    {
     "data": {
      "image/png": "[encoded data removed]",
      "text/plain": [
       "<Figure size 432x288 with 1 Axes>"
      ]
     },
     "metadata": {},
     "output_type": "display_data"
    }
   ],
   "source": [
    "#dairy products\n",
    "k5 = k.get_group ('Dairy')['Item_Outlet_Sales']\n",
    "sns.kdeplot(k5)"
   ]
  },
  {
   "cell_type": "code",
   "execution_count": 45,
   "metadata": {},
   "outputs": [
    {
     "data": {
      "text/plain": [
       "count      682.000000\n",
       "mean      2232.542597\n",
       "std       1884.404698\n",
       "min         40.613800\n",
       "25%        788.973000\n",
       "50%       1650.851100\n",
       "75%       3296.209350\n",
       "max      10256.649000\n",
       "Name: Item_Outlet_Sales, dtype: float64"
      ]
     },
     "execution_count": 45,
     "metadata": {},
     "output_type": "execute_result"
    }
   ],
   "source": [
    "k5.describe()"
   ]
  },
  {
   "cell_type": "code",
   "execution_count": 46,
   "metadata": {},
   "outputs": [
    {
     "data": {
      "text/plain": [
       "<matplotlib.axes._subplots.AxesSubplot at 0x1e8be417ba8>"
      ]
     },
     "execution_count": 46,
     "metadata": {},
     "output_type": "execute_result"
    },
    {
     "data": {
      "image/png": "[encoded data removed]",
      "text/plain": [
       "<Figure size 432x288 with 1 Axes>"
      ]
     },
     "metadata": {},
     "output_type": "display_data"
    }
   ],
   "source": [
    "#canned products\n",
    "k6 = k.get_group('Canned')['Item_Outlet_Sales']\n",
    "sns.kdeplot(k6)"
   ]
  },
  {
   "cell_type": "code",
   "execution_count": 47,
   "metadata": {},
   "outputs": [
    {
     "data": {
      "text/plain": [
       "count      649.000000\n",
       "mean      2225.194904\n",
       "std       1645.235638\n",
       "min         37.950600\n",
       "25%        952.094000\n",
       "50%       1860.245200\n",
       "75%       3101.296400\n",
       "max      10306.584000\n",
       "Name: Item_Outlet_Sales, dtype: float64"
      ]
     },
     "execution_count": 47,
     "metadata": {},
     "output_type": "execute_result"
    }
   ],
   "source": [
    "k6.describe()"
   ]
  },
  {
   "cell_type": "code",
   "execution_count": 48,
   "metadata": {},
   "outputs": [
    {
     "data": {
      "text/plain": [
       "<matplotlib.axes._subplots.AxesSubplot at 0x1e8be351278>"
      ]
     },
     "execution_count": 48,
     "metadata": {},
     "output_type": "execute_result"
    },
    {
     "data": {
      "image/png": "[encoded data removed]",
      "text/plain": [
       "<Figure size 432x288 with 1 Axes>"
      ]
     },
     "metadata": {},
     "output_type": "display_data"
    }
   ],
   "source": [
    "#baking foods\n",
    "k7 = k.get_group('Baking Goods')['Item_Outlet_Sales']\n",
    "sns.kdeplot(k7)"
   ]
  },
  {
   "cell_type": "code",
   "execution_count": 49,
   "metadata": {},
   "outputs": [
    {
     "data": {
      "text/plain": [
       "count     648.000000\n",
       "mean     1952.971207\n",
       "std      1546.788045\n",
       "min        37.284800\n",
       "25%       705.082200\n",
       "50%      1577.946000\n",
       "75%      2823.824250\n",
       "max      7931.675400\n",
       "Name: Item_Outlet_Sales, dtype: float64"
      ]
     },
     "execution_count": 49,
     "metadata": {},
     "output_type": "execute_result"
    }
   ],
   "source": [
    "k7.describe()"
   ]
  },
  {
   "cell_type": "code",
   "execution_count": 50,
   "metadata": {},
   "outputs": [
    {
     "data": {
      "text/plain": [
       "<matplotlib.axes._subplots.AxesSubplot at 0x1e8be4ce9e8>"
      ]
     },
     "execution_count": 50,
     "metadata": {},
     "output_type": "execute_result"
    },
    {
     "data": {
      "image/png": "[encoded data removed]",
      "text/plain": [
       "<Figure size 432x288 with 1 Axes>"
      ]
     },
     "metadata": {},
     "output_type": "display_data"
    }
   ],
   "source": [
    "#Health and Hygiene\n",
    "k8 = k.get_group('Health and Hygiene')['Item_Outlet_Sales']\n",
    "sns.kdeplot(k8)"
   ]
  },
  {
   "cell_type": "code",
   "execution_count": 51,
   "metadata": {},
   "outputs": [
    {
     "data": {
      "text/plain": [
       "count     520.000000\n",
       "mean     2010.000265\n",
       "std      1553.633063\n",
       "min        34.621600\n",
       "25%       758.845550\n",
       "50%      1669.493500\n",
       "75%      2884.578500\n",
       "max      9779.936200\n",
       "Name: Item_Outlet_Sales, dtype: float64"
      ]
     },
     "execution_count": 51,
     "metadata": {},
     "output_type": "execute_result"
    }
   ],
   "source": [
    "k8.describe()"
   ]
  },
  {
   "cell_type": "code",
   "execution_count": 52,
   "metadata": {},
   "outputs": [
    {
     "data": {
      "text/plain": [
       "<matplotlib.axes._subplots.AxesSubplot at 0x1e8be493160>"
      ]
     },
     "execution_count": 52,
     "metadata": {},
     "output_type": "execute_result"
    },
    {
     "data": {
      "image/png": "[encoded data removed]",
      "text/plain": [
       "<Figure size 432x288 with 1 Axes>"
      ]
     },
     "metadata": {},
     "output_type": "display_data"
    }
   ],
   "source": [
    "#soft drinks\n",
    "k9 = k.get_group('Soft Drinks')['Item_Outlet_Sales']\n",
    "sns.kdeplot(k9)"
   ]
  },
  {
   "cell_type": "code",
   "execution_count": 53,
   "metadata": {},
   "outputs": [
    {
     "data": {
      "text/plain": [
       "count     445.000000\n",
       "mean     2006.511735\n",
       "std      1674.249752\n",
       "min        33.290000\n",
       "25%       771.662200\n",
       "50%      1518.024000\n",
       "75%      2759.075200\n",
       "max      9554.230000\n",
       "Name: Item_Outlet_Sales, dtype: float64"
      ]
     },
     "execution_count": 53,
     "metadata": {},
     "output_type": "execute_result"
    }
   ],
   "source": [
    "k9.describe()"
   ]
  },
  {
   "cell_type": "code",
   "execution_count": 54,
   "metadata": {},
   "outputs": [
    {
     "data": {
      "text/plain": [
       "<matplotlib.axes._subplots.AxesSubplot at 0x1e8be5256d8>"
      ]
     },
     "execution_count": 54,
     "metadata": {},
     "output_type": "execute_result"
    },
    {
     "data": {
      "image/png": "[encoded data removed]",
      "text/plain": [
       "<Figure size 432x288 with 1 Axes>"
      ]
     },
     "metadata": {},
     "output_type": "display_data"
    }
   ],
   "source": [
    "#meat\n",
    "k10 = k.get_group('Meat')['Item_Outlet_Sales']\n",
    "sns.kdeplot(k10)"
   ]
  },
  {
   "cell_type": "code",
   "execution_count": 55,
   "metadata": {},
   "outputs": [
    {
     "data": {
      "text/plain": [
       "count     425.000000\n",
       "mean     2158.977911\n",
       "std      1695.231081\n",
       "min        47.937600\n",
       "25%       782.980800\n",
       "50%      1829.618400\n",
       "75%      3036.048000\n",
       "max      9390.443200\n",
       "Name: Item_Outlet_Sales, dtype: float64"
      ]
     },
     "execution_count": 55,
     "metadata": {},
     "output_type": "execute_result"
    }
   ],
   "source": [
    "k10.describe()"
   ]
  },
  {
   "cell_type": "code",
   "execution_count": 56,
   "metadata": {},
   "outputs": [
    {
     "data": {
      "text/plain": [
       "<matplotlib.axes._subplots.AxesSubplot at 0x1e8be5f18d0>"
      ]
     },
     "execution_count": 56,
     "metadata": {},
     "output_type": "execute_result"
    },
    {
     "data": {
      "image/png": "[encoded data removed]",
      "text/plain": [
       "<Figure size 432x288 with 1 Axes>"
      ]
     },
     "metadata": {},
     "output_type": "display_data"
    }
   ],
   "source": [
    "#breads\n",
    "k11 = k.get_group('Breads')['Item_Outlet_Sales']\n",
    "sns.kdeplot(k11)"
   ]
  },
  {
   "cell_type": "code",
   "execution_count": 57,
   "metadata": {},
   "outputs": [
    {
     "data": {
      "text/plain": [
       "count     251.000000\n",
       "mean     2204.132226\n",
       "std      1644.235914\n",
       "min        35.287400\n",
       "25%       968.739000\n",
       "50%      1860.245200\n",
       "75%      3145.905000\n",
       "max      8958.339000\n",
       "Name: Item_Outlet_Sales, dtype: float64"
      ]
     },
     "execution_count": 57,
     "metadata": {},
     "output_type": "execute_result"
    }
   ],
   "source": [
    "k11.describe()"
   ]
  },
  {
   "cell_type": "code",
   "execution_count": 58,
   "metadata": {},
   "outputs": [
    {
     "data": {
      "text/plain": [
       "<matplotlib.axes._subplots.AxesSubplot at 0x1e8be5e7da0>"
      ]
     },
     "execution_count": 58,
     "metadata": {},
     "output_type": "execute_result"
    },
    {
     "data": {
      "image/png": "[encoded data removed]",
      "text/plain": [
       "<Figure size 432x288 with 1 Axes>"
      ]
     },
     "metadata": {},
     "output_type": "display_data"
    }
   ],
   "source": [
    "#hard drinks\n",
    "k12 = k.get_group('Hard Drinks')['Item_Outlet_Sales']\n",
    "sns.kdeplot(k12)"
   ]
  },
  {
   "cell_type": "code",
   "execution_count": 59,
   "metadata": {},
   "outputs": [
    {
     "data": {
      "text/plain": [
       "count     214.000000\n",
       "mean     2139.221622\n",
       "std      1606.191587\n",
       "min        37.950600\n",
       "25%       834.913200\n",
       "50%      1816.635300\n",
       "75%      3071.335400\n",
       "max      7843.124000\n",
       "Name: Item_Outlet_Sales, dtype: float64"
      ]
     },
     "execution_count": 59,
     "metadata": {},
     "output_type": "execute_result"
    }
   ],
   "source": [
    "k12.describe()"
   ]
  },
  {
   "cell_type": "code",
   "execution_count": 60,
   "metadata": {},
   "outputs": [
    {
     "data": {
      "text/plain": [
       "<matplotlib.axes._subplots.AxesSubplot at 0x1e8be6c5940>"
      ]
     },
     "execution_count": 60,
     "metadata": {},
     "output_type": "execute_result"
    },
    {
     "data": {
      "image/png": "[encoded data removed]",
      "text/plain": [
       "<Figure size 432x288 with 1 Axes>"
      ]
     },
     "metadata": {},
     "output_type": "display_data"
    }
   ],
   "source": [
    "#breakfast products\n",
    "k13 = k.get_group('Breakfast')['Item_Outlet_Sales']\n",
    "sns.kdeplot(k13)"
   ]
  },
  {
   "cell_type": "code",
   "execution_count": 61,
   "metadata": {},
   "outputs": [
    {
     "data": {
      "text/plain": [
       "count     110.000000\n",
       "mean     2111.808651\n",
       "std      1911.693586\n",
       "min        39.948000\n",
       "25%       679.116000\n",
       "50%      1554.643000\n",
       "75%      2970.300250\n",
       "max      8209.314000\n",
       "Name: Item_Outlet_Sales, dtype: float64"
      ]
     },
     "execution_count": 61,
     "metadata": {},
     "output_type": "execute_result"
    }
   ],
   "source": [
    "k13.describe()"
   ]
  },
  {
   "cell_type": "code",
   "execution_count": 62,
   "metadata": {},
   "outputs": [
    {
     "data": {
      "text/plain": [
       "<matplotlib.axes._subplots.AxesSubplot at 0x1e8be728b70>"
      ]
     },
     "execution_count": 62,
     "metadata": {},
     "output_type": "execute_result"
    },
    {
     "data": {
      "image/png": "[encoded data removed]",
      "text/plain": [
       "<Figure size 432x288 with 1 Axes>"
      ]
     },
     "metadata": {},
     "output_type": "display_data"
    }
   ],
   "source": [
    "#seafoods\n",
    "k14 = k.get_group('Seafood')['Item_Outlet_Sales']\n",
    "sns.kdeplot(k14)"
   ]
  },
  {
   "cell_type": "code",
   "execution_count": 63,
   "metadata": {},
   "outputs": [
    {
     "data": {
      "text/plain": [
       "count      64.000000\n",
       "mean     2326.065928\n",
       "std      1842.988719\n",
       "min       149.805000\n",
       "25%       473.383800\n",
       "50%      2055.324600\n",
       "75%      3589.327800\n",
       "max      6503.534400\n",
       "Name: Item_Outlet_Sales, dtype: float64"
      ]
     },
     "execution_count": 63,
     "metadata": {},
     "output_type": "execute_result"
    }
   ],
   "source": [
    "k14.describe()"
   ]
  },
  {
   "cell_type": "code",
   "execution_count": 64,
   "metadata": {},
   "outputs": [
    {
     "data": {
      "text/plain": [
       "<matplotlib.collections.PathCollection at 0x1e8be7bb860>"
      ]
     },
     "execution_count": 64,
     "metadata": {},
     "output_type": "execute_result"
    },
    {
     "data": {
      "image/png": "[encoded data removed]",
      "text/plain": [
       "<Figure size 432x288 with 1 Axes>"
      ]
     },
     "metadata": {},
     "output_type": "display_data"
    }
   ],
   "source": [
    "plt.scatter(train['Item_MRP'],train['Item_Outlet_Sales'])"
   ]
  },
  {
   "cell_type": "code",
   "execution_count": 65,
   "metadata": {},
   "outputs": [
    {
     "data": {
      "text/plain": [
       "<matplotlib.collections.PathCollection at 0x1e8be81a5c0>"
      ]
     },
     "execution_count": 65,
     "metadata": {},
     "output_type": "execute_result"
    },
    {
     "data": {
      "image/png": "[encoded data removed]",
      "text/plain": [
       "<Figure size 432x288 with 1 Axes>"
      ]
     },
     "metadata": {},
     "output_type": "display_data"
    }
   ],
   "source": [
    "plt.scatter(train['Item_Outlet_Sales'],train['Outlet_Identifier'])"
   ]
  },
  {
   "cell_type": "code",
   "execution_count": 66,
   "metadata": {},
   "outputs": [
    {
     "data": {
      "text/html": [
       "<div>\n",
       "<style scoped>\n",
       "    .dataframe tbody tr th:only-of-type {\n",
       "        vertical-align: middle;\n",
       "    }\n",
       "\n",
       "    .dataframe tbody tr th {\n",
       "        vertical-align: top;\n",
       "    }\n",
       "\n",
       "    .dataframe thead th {\n",
       "        text-align: right;\n",
       "    }\n",
       "</style>\n",
       "<table border=\"1\" class=\"dataframe\">\n",
       "  <thead>\n",
       "    <tr style=\"text-align: right;\">\n",
       "      <th>Outlet_Identifier</th>\n",
       "      <th>OUT010</th>\n",
       "      <th>OUT013</th>\n",
       "      <th>OUT017</th>\n",
       "      <th>OUT018</th>\n",
       "      <th>OUT019</th>\n",
       "      <th>OUT027</th>\n",
       "      <th>OUT035</th>\n",
       "      <th>OUT045</th>\n",
       "      <th>OUT046</th>\n",
       "      <th>OUT049</th>\n",
       "    </tr>\n",
       "    <tr>\n",
       "      <th>Outlet_Establishment_Year</th>\n",
       "      <th></th>\n",
       "      <th></th>\n",
       "      <th></th>\n",
       "      <th></th>\n",
       "      <th></th>\n",
       "      <th></th>\n",
       "      <th></th>\n",
       "      <th></th>\n",
       "      <th></th>\n",
       "      <th></th>\n",
       "    </tr>\n",
       "  </thead>\n",
       "  <tbody>\n",
       "    <tr>\n",
       "      <th>1985</th>\n",
       "      <td>0</td>\n",
       "      <td>0</td>\n",
       "      <td>0</td>\n",
       "      <td>0</td>\n",
       "      <td>528</td>\n",
       "      <td>935</td>\n",
       "      <td>0</td>\n",
       "      <td>0</td>\n",
       "      <td>0</td>\n",
       "      <td>0</td>\n",
       "    </tr>\n",
       "    <tr>\n",
       "      <th>1987</th>\n",
       "      <td>0</td>\n",
       "      <td>932</td>\n",
       "      <td>0</td>\n",
       "      <td>0</td>\n",
       "      <td>0</td>\n",
       "      <td>0</td>\n",
       "      <td>0</td>\n",
       "      <td>0</td>\n",
       "      <td>0</td>\n",
       "      <td>0</td>\n",
       "    </tr>\n",
       "    <tr>\n",
       "      <th>1997</th>\n",
       "      <td>0</td>\n",
       "      <td>0</td>\n",
       "      <td>0</td>\n",
       "      <td>0</td>\n",
       "      <td>0</td>\n",
       "      <td>0</td>\n",
       "      <td>0</td>\n",
       "      <td>0</td>\n",
       "      <td>930</td>\n",
       "      <td>0</td>\n",
       "    </tr>\n",
       "    <tr>\n",
       "      <th>1998</th>\n",
       "      <td>555</td>\n",
       "      <td>0</td>\n",
       "      <td>0</td>\n",
       "      <td>0</td>\n",
       "      <td>0</td>\n",
       "      <td>0</td>\n",
       "      <td>0</td>\n",
       "      <td>0</td>\n",
       "      <td>0</td>\n",
       "      <td>0</td>\n",
       "    </tr>\n",
       "    <tr>\n",
       "      <th>1999</th>\n",
       "      <td>0</td>\n",
       "      <td>0</td>\n",
       "      <td>0</td>\n",
       "      <td>0</td>\n",
       "      <td>0</td>\n",
       "      <td>0</td>\n",
       "      <td>0</td>\n",
       "      <td>0</td>\n",
       "      <td>0</td>\n",
       "      <td>930</td>\n",
       "    </tr>\n",
       "    <tr>\n",
       "      <th>2002</th>\n",
       "      <td>0</td>\n",
       "      <td>0</td>\n",
       "      <td>0</td>\n",
       "      <td>0</td>\n",
       "      <td>0</td>\n",
       "      <td>0</td>\n",
       "      <td>0</td>\n",
       "      <td>929</td>\n",
       "      <td>0</td>\n",
       "      <td>0</td>\n",
       "    </tr>\n",
       "    <tr>\n",
       "      <th>2004</th>\n",
       "      <td>0</td>\n",
       "      <td>0</td>\n",
       "      <td>0</td>\n",
       "      <td>0</td>\n",
       "      <td>0</td>\n",
       "      <td>0</td>\n",
       "      <td>930</td>\n",
       "      <td>0</td>\n",
       "      <td>0</td>\n",
       "      <td>0</td>\n",
       "    </tr>\n",
       "    <tr>\n",
       "      <th>2007</th>\n",
       "      <td>0</td>\n",
       "      <td>0</td>\n",
       "      <td>926</td>\n",
       "      <td>0</td>\n",
       "      <td>0</td>\n",
       "      <td>0</td>\n",
       "      <td>0</td>\n",
       "      <td>0</td>\n",
       "      <td>0</td>\n",
       "      <td>0</td>\n",
       "    </tr>\n",
       "    <tr>\n",
       "      <th>2009</th>\n",
       "      <td>0</td>\n",
       "      <td>0</td>\n",
       "      <td>0</td>\n",
       "      <td>928</td>\n",
       "      <td>0</td>\n",
       "      <td>0</td>\n",
       "      <td>0</td>\n",
       "      <td>0</td>\n",
       "      <td>0</td>\n",
       "      <td>0</td>\n",
       "    </tr>\n",
       "  </tbody>\n",
       "</table>\n",
       "</div>"
      ],
      "text/plain": [
       "Outlet_Identifier          OUT010  OUT013  OUT017  OUT018  OUT019  OUT027  \\\n",
       "Outlet_Establishment_Year                                                   \n",
       "1985                            0       0       0       0     528     935   \n",
       "1987                            0     932       0       0       0       0   \n",
       "1997                            0       0       0       0       0       0   \n",
       "1998                          555       0       0       0       0       0   \n",
       "1999                            0       0       0       0       0       0   \n",
       "2002                            0       0       0       0       0       0   \n",
       "2004                            0       0       0       0       0       0   \n",
       "2007                            0       0     926       0       0       0   \n",
       "2009                            0       0       0     928       0       0   \n",
       "\n",
       "Outlet_Identifier          OUT035  OUT045  OUT046  OUT049  \n",
       "Outlet_Establishment_Year                                  \n",
       "1985                            0       0       0       0  \n",
       "1987                            0       0       0       0  \n",
       "1997                            0       0     930       0  \n",
       "1998                            0       0       0       0  \n",
       "1999                            0       0       0     930  \n",
       "2002                            0     929       0       0  \n",
       "2004                          930       0       0       0  \n",
       "2007                            0       0       0       0  \n",
       "2009                            0       0       0       0  "
      ]
     },
     "execution_count": 66,
     "metadata": {},
     "output_type": "execute_result"
    }
   ],
   "source": [
    "pd.crosstab(train['Outlet_Establishment_Year'],train['Outlet_Identifier'])"
   ]
  },
  {
   "cell_type": "code",
   "execution_count": 67,
   "metadata": {},
   "outputs": [
    {
     "data": {
      "text/plain": [
       "Medium    2793\n",
       "Small     2388\n",
       "High       932\n",
       "Name: Outlet_Size, dtype: int64"
      ]
     },
     "execution_count": 67,
     "metadata": {},
     "output_type": "execute_result"
    }
   ],
   "source": [
    "train['Outlet_Size'].value_counts()"
   ]
  },
  {
   "cell_type": "code",
   "execution_count": 68,
   "metadata": {},
   "outputs": [],
   "source": [
    "m = train.groupby(train['Outlet_Size'])"
   ]
  },
  {
   "cell_type": "code",
   "execution_count": 69,
   "metadata": {},
   "outputs": [
    {
     "data": {
      "text/plain": [
       "count     2793.000000\n",
       "mean      2681.603542\n",
       "std       1855.210528\n",
       "min         69.243200\n",
       "25%       1270.346400\n",
       "50%       2251.069800\n",
       "75%       3691.195200\n",
       "max      13086.964800\n",
       "Name: Item_Outlet_Sales, dtype: float64"
      ]
     },
     "execution_count": 69,
     "metadata": {},
     "output_type": "execute_result"
    }
   ],
   "source": [
    "#Medium sized\n",
    "m1 = m.get_group('Medium')['Item_Outlet_Sales']\n",
    "m1.describe()"
   ]
  },
  {
   "cell_type": "code",
   "execution_count": 70,
   "metadata": {},
   "outputs": [
    {
     "data": {
      "text/plain": [
       "count    2388.000000\n",
       "mean     1912.149161\n",
       "std      1582.370364\n",
       "min        33.955800\n",
       "25%       601.050950\n",
       "50%      1544.656000\n",
       "75%      2824.323600\n",
       "max      9779.936200\n",
       "Name: Item_Outlet_Sales, dtype: float64"
      ]
     },
     "execution_count": 70,
     "metadata": {},
     "output_type": "execute_result"
    }
   ],
   "source": [
    "#small sized\n",
    "m2 = m.get_group('Small')['Item_Outlet_Sales']\n",
    "m2.describe()"
   ]
  },
  {
   "cell_type": "code",
   "execution_count": 71,
   "metadata": {},
   "outputs": [
    {
     "data": {
      "text/plain": [
       "count      932.000000\n",
       "mean      2298.995256\n",
       "std       1533.531664\n",
       "min         73.238000\n",
       "25%       1072.603800\n",
       "50%       2050.664000\n",
       "75%       3166.378350\n",
       "max      10256.649000\n",
       "Name: Item_Outlet_Sales, dtype: float64"
      ]
     },
     "execution_count": 71,
     "metadata": {},
     "output_type": "execute_result"
    }
   ],
   "source": [
    "#high sized\n",
    "m3 = m.get_group('High')['Item_Outlet_Sales']\n",
    "m3.describe()"
   ]
  },
  {
   "cell_type": "code",
   "execution_count": 72,
   "metadata": {},
   "outputs": [
    {
     "data": {
      "text/html": [
       "<div>\n",
       "<style scoped>\n",
       "    .dataframe tbody tr th:only-of-type {\n",
       "        vertical-align: middle;\n",
       "    }\n",
       "\n",
       "    .dataframe tbody tr th {\n",
       "        vertical-align: top;\n",
       "    }\n",
       "\n",
       "    .dataframe thead th {\n",
       "        text-align: right;\n",
       "    }\n",
       "</style>\n",
       "<table border=\"1\" class=\"dataframe\">\n",
       "  <thead>\n",
       "    <tr style=\"text-align: right;\">\n",
       "      <th>Outlet_Location_Type</th>\n",
       "      <th>Tier 1</th>\n",
       "      <th>Tier 2</th>\n",
       "      <th>Tier 3</th>\n",
       "    </tr>\n",
       "    <tr>\n",
       "      <th>Outlet_Size</th>\n",
       "      <th></th>\n",
       "      <th></th>\n",
       "      <th></th>\n",
       "    </tr>\n",
       "  </thead>\n",
       "  <tbody>\n",
       "    <tr>\n",
       "      <th>High</th>\n",
       "      <td>0</td>\n",
       "      <td>0</td>\n",
       "      <td>932</td>\n",
       "    </tr>\n",
       "    <tr>\n",
       "      <th>Medium</th>\n",
       "      <td>930</td>\n",
       "      <td>0</td>\n",
       "      <td>1863</td>\n",
       "    </tr>\n",
       "    <tr>\n",
       "      <th>Small</th>\n",
       "      <td>1458</td>\n",
       "      <td>930</td>\n",
       "      <td>0</td>\n",
       "    </tr>\n",
       "  </tbody>\n",
       "</table>\n",
       "</div>"
      ],
      "text/plain": [
       "Outlet_Location_Type  Tier 1  Tier 2  Tier 3\n",
       "Outlet_Size                                 \n",
       "High                       0       0     932\n",
       "Medium                   930       0    1863\n",
       "Small                   1458     930       0"
      ]
     },
     "execution_count": 72,
     "metadata": {},
     "output_type": "execute_result"
    }
   ],
   "source": [
    "pd.crosstab(train['Outlet_Size'],train['Outlet_Location_Type'])"
   ]
  },
  {
   "cell_type": "code",
   "execution_count": 73,
   "metadata": {},
   "outputs": [],
   "source": [
    "n = train.groupby(train['Outlet_Location_Type'])"
   ]
  },
  {
   "cell_type": "code",
   "execution_count": 74,
   "metadata": {},
   "outputs": [
    {
     "data": {
      "text/plain": [
       "count     3350.000000\n",
       "mean      2279.627651\n",
       "std       1912.451333\n",
       "min         33.290000\n",
       "25%        731.381300\n",
       "50%       1812.307600\n",
       "75%       3307.694400\n",
       "max      13086.964800\n",
       "Name: Item_Outlet_Sales, dtype: float64"
      ]
     },
     "execution_count": 74,
     "metadata": {},
     "output_type": "execute_result"
    }
   ],
   "source": [
    "#tier3\n",
    "n1 = n.get_group('Tier 3')['Item_Outlet_Sales']\n",
    "n1.describe()"
   ]
  },
  {
   "cell_type": "code",
   "execution_count": 75,
   "metadata": {},
   "outputs": [
    {
     "data": {
      "text/plain": [
       "count    2785.000000\n",
       "mean     2323.990559\n",
       "std      1520.543543\n",
       "min        99.870000\n",
       "25%      1171.808000\n",
       "50%      2004.058000\n",
       "75%      3110.617600\n",
       "max      9664.752800\n",
       "Name: Item_Outlet_Sales, dtype: float64"
      ]
     },
     "execution_count": 75,
     "metadata": {},
     "output_type": "execute_result"
    }
   ],
   "source": [
    "#tier2\n",
    "n2 = n.get_group('Tier 2')['Item_Outlet_Sales']\n",
    "n2.describe()"
   ]
  },
  {
   "cell_type": "code",
   "execution_count": 76,
   "metadata": {},
   "outputs": [
    {
     "data": {
      "text/plain": [
       "count    2388.000000\n",
       "mean     1876.909159\n",
       "std      1561.649293\n",
       "min        33.955800\n",
       "25%       593.727150\n",
       "50%      1487.397200\n",
       "75%      2803.018000\n",
       "max      9779.936200\n",
       "Name: Item_Outlet_Sales, dtype: float64"
      ]
     },
     "execution_count": 76,
     "metadata": {},
     "output_type": "execute_result"
    }
   ],
   "source": [
    "#tier 1\n",
    "n3 = n.get_group('Tier 1')['Item_Outlet_Sales']\n",
    "n3.describe()"
   ]
  },
  {
   "cell_type": "code",
   "execution_count": 77,
   "metadata": {},
   "outputs": [
    {
     "data": {
      "text/plain": [
       "Supermarket Type1    5577\n",
       "Grocery Store        1083\n",
       "Supermarket Type3     935\n",
       "Supermarket Type2     928\n",
       "Name: Outlet_Type, dtype: int64"
      ]
     },
     "execution_count": 77,
     "metadata": {},
     "output_type": "execute_result"
    }
   ],
   "source": [
    "train['Outlet_Type'].value_counts()"
   ]
  },
  {
   "cell_type": "code",
   "execution_count": 78,
   "metadata": {},
   "outputs": [],
   "source": [
    "a = train.groupby(train['Item_Type'])"
   ]
  },
  {
   "cell_type": "code",
   "execution_count": 79,
   "metadata": {},
   "outputs": [
    {
     "data": {
      "text/plain": [
       "count    1232.000000\n",
       "mean      144.581235\n",
       "std        60.475899\n",
       "min        36.250600\n",
       "25%        98.391000\n",
       "50%       145.544400\n",
       "75%       188.479300\n",
       "max       264.225200\n",
       "Name: Item_MRP, dtype: float64"
      ]
     },
     "execution_count": 79,
     "metadata": {},
     "output_type": "execute_result"
    }
   ],
   "source": [
    "#fruits & veges\n",
    "a1 = a.get_group('Fruits and Vegetables')['Item_MRP']\n",
    "a1.describe()"
   ]
  },
  {
   "cell_type": "code",
   "execution_count": 80,
   "metadata": {},
   "outputs": [
    {
     "data": {
      "text/plain": [
       "count    1200.000000\n",
       "mean      146.194934\n",
       "std        58.898002\n",
       "min        32.355800\n",
       "25%       104.345750\n",
       "50%       146.673400\n",
       "75%       185.825300\n",
       "max       264.956800\n",
       "Name: Item_MRP, dtype: float64"
      ]
     },
     "execution_count": 80,
     "metadata": {},
     "output_type": "execute_result"
    }
   ],
   "source": [
    "#snakcs\n",
    "a2 = a.get_group('Snack Foods')['Item_MRP']\n",
    "a2.describe()"
   ]
  },
  {
   "cell_type": "code",
   "execution_count": 81,
   "metadata": {},
   "outputs": [
    {
     "data": {
      "text/plain": [
       "count    910.000000\n",
       "mean     149.424753\n",
       "std       62.394009\n",
       "min       32.455800\n",
       "25%      107.762200\n",
       "50%      153.318200\n",
       "75%      191.599750\n",
       "max      264.791000\n",
       "Name: Item_MRP, dtype: float64"
      ]
     },
     "execution_count": 81,
     "metadata": {},
     "output_type": "execute_result"
    }
   ],
   "source": [
    "#household\n",
    "a3 = a.get_group('Household')['Item_MRP']\n",
    "a3.describe()"
   ]
  },
  {
   "cell_type": "code",
   "execution_count": 82,
   "metadata": {},
   "outputs": [
    {
     "data": {
      "text/plain": [
       "count    856.000000\n",
       "mean     138.503366\n",
       "std       67.455074\n",
       "min       31.955800\n",
       "25%       83.699350\n",
       "50%      128.649400\n",
       "75%      190.584600\n",
       "max      264.891000\n",
       "Name: Item_MRP, dtype: float64"
      ]
     },
     "execution_count": 82,
     "metadata": {},
     "output_type": "execute_result"
    }
   ],
   "source": [
    "#frozenfoods\n",
    "a4 = a.get_group('Frozen Foods')['Item_MRP']\n",
    "a4.describe()"
   ]
  },
  {
   "cell_type": "code",
   "execution_count": 83,
   "metadata": {},
   "outputs": [
    {
     "data": {
      "text/plain": [
       "count    682.000000\n",
       "mean     148.499208\n",
       "std       70.326744\n",
       "min       33.487400\n",
       "25%       88.827050\n",
       "50%      147.540500\n",
       "75%      213.371800\n",
       "max      266.688400\n",
       "Name: Item_MRP, dtype: float64"
      ]
     },
     "execution_count": 83,
     "metadata": {},
     "output_type": "execute_result"
    }
   ],
   "source": [
    "#dairy products\n",
    "a5 = a.get_group('Dairy')['Item_MRP']\n",
    "a5.describe()"
   ]
  },
  {
   "cell_type": "code",
   "execution_count": 84,
   "metadata": {},
   "outputs": [
    {
     "data": {
      "text/plain": [
       "count    649.000000\n",
       "mean     139.763832\n",
       "std       60.811624\n",
       "min       36.350600\n",
       "25%       89.880400\n",
       "50%      140.149600\n",
       "75%      184.592400\n",
       "max      266.888400\n",
       "Name: Item_MRP, dtype: float64"
      ]
     },
     "execution_count": 84,
     "metadata": {},
     "output_type": "execute_result"
    }
   ],
   "source": [
    "#canned products\n",
    "a6 = a.get_group('Canned')['Item_MRP']\n",
    "a6.describe()"
   ]
  },
  {
   "cell_type": "code",
   "execution_count": 85,
   "metadata": {},
   "outputs": [
    {
     "data": {
      "text/plain": [
       "count    648.000000\n",
       "mean     126.380766\n",
       "std       58.059573\n",
       "min       33.987400\n",
       "25%       84.067750\n",
       "50%      112.354400\n",
       "75%      170.992200\n",
       "max      265.556800\n",
       "Name: Item_MRP, dtype: float64"
      ]
     },
     "execution_count": 85,
     "metadata": {},
     "output_type": "execute_result"
    }
   ],
   "source": [
    "#baking goods\n",
    "a7 = a.get_group('Baking Goods')['Item_MRP']\n",
    "a7.describe()"
   ]
  },
  {
   "cell_type": "code",
   "execution_count": 86,
   "metadata": {},
   "outputs": [
    {
     "data": {
      "text/plain": [
       "count    520.000000\n",
       "mean     130.818921\n",
       "std       59.379481\n",
       "min       33.121600\n",
       "25%       95.391650\n",
       "50%      128.034900\n",
       "75%      163.851300\n",
       "max      266.688400\n",
       "Name: Item_MRP, dtype: float64"
      ]
     },
     "execution_count": 86,
     "metadata": {},
     "output_type": "execute_result"
    }
   ],
   "source": [
    "#health and hygiene\n",
    "a8 = a.get_group('Health and Hygiene')['Item_MRP']\n",
    "a8.describe()"
   ]
  },
  {
   "cell_type": "code",
   "execution_count": 87,
   "metadata": {},
   "outputs": [
    {
     "data": {
      "text/plain": [
       "count    445.000000\n",
       "mean     131.492506\n",
       "std       60.752561\n",
       "min       31.290000\n",
       "25%       82.427600\n",
       "50%      144.010200\n",
       "75%      176.205400\n",
       "max      263.591000\n",
       "Name: Item_MRP, dtype: float64"
      ]
     },
     "execution_count": 87,
     "metadata": {},
     "output_type": "execute_result"
    }
   ],
   "source": [
    "#soft drinks\n",
    "a9 = a.get_group('Soft Drinks')['Item_MRP']\n",
    "a9.describe()"
   ]
  },
  {
   "cell_type": "code",
   "execution_count": 88,
   "metadata": {},
   "outputs": [
    {
     "data": {
      "text/plain": [
       "count    425.000000\n",
       "mean     139.882032\n",
       "std       58.117456\n",
       "min       34.753200\n",
       "25%       98.304200\n",
       "50%      146.573400\n",
       "75%      185.260800\n",
       "max      261.593600\n",
       "Name: Item_MRP, dtype: float64"
      ]
     },
     "execution_count": 88,
     "metadata": {},
     "output_type": "execute_result"
    }
   ],
   "source": [
    "#meat\n",
    "a10 = a.get_group('Meat')['Item_MRP']\n",
    "a10.describe()"
   ]
  },
  {
   "cell_type": "code",
   "execution_count": 89,
   "metadata": {},
   "outputs": [
    {
     "data": {
      "text/plain": [
       "count    251.000000\n",
       "mean     140.952669\n",
       "std       63.499685\n",
       "min       31.955800\n",
       "25%       91.314600\n",
       "50%      129.131000\n",
       "75%      194.729400\n",
       "max      263.659400\n",
       "Name: Item_MRP, dtype: float64"
      ]
     },
     "execution_count": 89,
     "metadata": {},
     "output_type": "execute_result"
    }
   ],
   "source": [
    "#breads\n",
    "a11 = a.get_group('Breads')['Item_MRP']\n",
    "a11.describe()"
   ]
  },
  {
   "cell_type": "code",
   "execution_count": 90,
   "metadata": {},
   "outputs": [
    {
     "data": {
      "text/plain": [
       "count    214.000000\n",
       "mean     137.077928\n",
       "std       62.023378\n",
       "min       34.253200\n",
       "25%      106.318800\n",
       "50%      144.944400\n",
       "75%      177.684400\n",
       "max      261.427800\n",
       "Name: Item_MRP, dtype: float64"
      ]
     },
     "execution_count": 90,
     "metadata": {},
     "output_type": "execute_result"
    }
   ],
   "source": [
    "#hard drinks\n",
    "a12 = a.get_group('Hard Drinks')['Item_MRP']\n",
    "a12.describe()"
   ]
  },
  {
   "cell_type": "code",
   "execution_count": 91,
   "metadata": {},
   "outputs": [
    {
     "data": {
      "text/plain": [
       "count    110.000000\n",
       "mean     141.788151\n",
       "std       58.457031\n",
       "min       40.048000\n",
       "25%       99.860800\n",
       "50%      155.363000\n",
       "75%      178.312000\n",
       "max      234.930000\n",
       "Name: Item_MRP, dtype: float64"
      ]
     },
     "execution_count": 91,
     "metadata": {},
     "output_type": "execute_result"
    }
   ],
   "source": [
    "#breakfast\n",
    "a13 = a.get_group('Breakfast')['Item_MRP']\n",
    "a13.describe()"
   ]
  },
  {
   "cell_type": "code",
   "execution_count": 92,
   "metadata": {},
   "outputs": [
    {
     "data": {
      "text/plain": [
       "count     64.000000\n",
       "mean     141.841719\n",
       "std       58.622816\n",
       "min       33.721600\n",
       "25%      109.209600\n",
       "50%      158.560400\n",
       "75%      184.708200\n",
       "max      240.288000\n",
       "Name: Item_MRP, dtype: float64"
      ]
     },
     "execution_count": 92,
     "metadata": {},
     "output_type": "execute_result"
    }
   ],
   "source": [
    "#seafood\n",
    "a14 = a.get_group('Seafood')['Item_MRP']\n",
    "a14.describe()"
   ]
  },
  {
   "cell_type": "markdown",
   "metadata": {},
   "source": [
    "# Data Processing"
   ]
  },
  {
   "cell_type": "code",
   "execution_count": 93,
   "metadata": {},
   "outputs": [],
   "source": [
    "#imputing missing value in train file!"
   ]
  },
  {
   "cell_type": "code",
   "execution_count": 94,
   "metadata": {},
   "outputs": [],
   "source": [
    "#item_weight"
   ]
  },
  {
   "cell_type": "code",
   "execution_count": 95,
   "metadata": {},
   "outputs": [
    {
     "data": {
      "text/plain": [
       "count    7060.000000\n",
       "mean       12.857645\n",
       "std         4.643456\n",
       "min         4.555000\n",
       "25%         8.773750\n",
       "50%        12.600000\n",
       "75%        16.850000\n",
       "max        21.350000\n",
       "Name: Item_Weight, dtype: float64"
      ]
     },
     "execution_count": 95,
     "metadata": {},
     "output_type": "execute_result"
    }
   ],
   "source": [
    "train['Item_Weight'].describe()"
   ]
  },
  {
   "cell_type": "code",
   "execution_count": 96,
   "metadata": {},
   "outputs": [],
   "source": [
    "#since there's no much significant diff between mean & median of variable => imputing variable with mean!"
   ]
  },
  {
   "cell_type": "code",
   "execution_count": 97,
   "metadata": {},
   "outputs": [],
   "source": [
    "train['Item_Weight'].fillna(value = np.mean(train['Item_Weight']),inplace = True)"
   ]
  },
  {
   "cell_type": "code",
   "execution_count": 98,
   "metadata": {},
   "outputs": [],
   "source": [
    "#outlet_size "
   ]
  },
  {
   "cell_type": "code",
   "execution_count": 99,
   "metadata": {},
   "outputs": [
    {
     "data": {
      "text/plain": [
       "Medium    2793\n",
       "Small     2388\n",
       "High       932\n",
       "Name: Outlet_Size, dtype: int64"
      ]
     },
     "execution_count": 99,
     "metadata": {},
     "output_type": "execute_result"
    }
   ],
   "source": [
    "train['Outlet_Size'].value_counts()"
   ]
  },
  {
   "cell_type": "code",
   "execution_count": 100,
   "metadata": {},
   "outputs": [],
   "source": [
    "train['Outlet_Size'].fillna(value = 'Medium',inplace = True)"
   ]
  },
  {
   "cell_type": "code",
   "execution_count": 101,
   "metadata": {},
   "outputs": [],
   "source": [
    "#imputing missing value in test file!"
   ]
  },
  {
   "cell_type": "code",
   "execution_count": 102,
   "metadata": {},
   "outputs": [],
   "source": [
    "#item_Weight"
   ]
  },
  {
   "cell_type": "code",
   "execution_count": 103,
   "metadata": {},
   "outputs": [
    {
     "data": {
      "text/plain": [
       "count    4705.000000\n",
       "mean       12.695633\n",
       "std         4.664849\n",
       "min         4.555000\n",
       "25%         8.645000\n",
       "50%        12.500000\n",
       "75%        16.700000\n",
       "max        21.350000\n",
       "Name: Item_Weight, dtype: float64"
      ]
     },
     "execution_count": 103,
     "metadata": {},
     "output_type": "execute_result"
    }
   ],
   "source": [
    "test['Item_Weight'].describe()"
   ]
  },
  {
   "cell_type": "code",
   "execution_count": 104,
   "metadata": {},
   "outputs": [],
   "source": [
    "test['Item_Weight'].fillna(value = np.mean(test['Item_Weight']),inplace = True)"
   ]
  },
  {
   "cell_type": "code",
   "execution_count": 105,
   "metadata": {},
   "outputs": [],
   "source": [
    "#Outlet size"
   ]
  },
  {
   "cell_type": "code",
   "execution_count": 106,
   "metadata": {},
   "outputs": [
    {
     "data": {
      "text/plain": [
       "Medium    1862\n",
       "Small     1592\n",
       "High       621\n",
       "Name: Outlet_Size, dtype: int64"
      ]
     },
     "execution_count": 106,
     "metadata": {},
     "output_type": "execute_result"
    }
   ],
   "source": [
    "test['Outlet_Size'].value_counts()"
   ]
  },
  {
   "cell_type": "code",
   "execution_count": 107,
   "metadata": {},
   "outputs": [],
   "source": [
    "test['Outlet_Size'].fillna(value = 'Medium',inplace = True)"
   ]
  },
  {
   "cell_type": "markdown",
   "metadata": {},
   "source": [
    "# Checking Correlation!"
   ]
  },
  {
   "cell_type": "code",
   "execution_count": 108,
   "metadata": {},
   "outputs": [
    {
     "data": {
      "text/html": [
       "<div>\n",
       "<style scoped>\n",
       "    .dataframe tbody tr th:only-of-type {\n",
       "        vertical-align: middle;\n",
       "    }\n",
       "\n",
       "    .dataframe tbody tr th {\n",
       "        vertical-align: top;\n",
       "    }\n",
       "\n",
       "    .dataframe thead th {\n",
       "        text-align: right;\n",
       "    }\n",
       "</style>\n",
       "<table border=\"1\" class=\"dataframe\">\n",
       "  <thead>\n",
       "    <tr style=\"text-align: right;\">\n",
       "      <th></th>\n",
       "      <th>Item_Weight</th>\n",
       "      <th>Item_Visibility</th>\n",
       "      <th>Item_MRP</th>\n",
       "      <th>Outlet_Establishment_Year</th>\n",
       "      <th>Item_Outlet_Sales</th>\n",
       "    </tr>\n",
       "  </thead>\n",
       "  <tbody>\n",
       "    <tr>\n",
       "      <th>Item_Weight</th>\n",
       "      <td>1.000000</td>\n",
       "      <td>-0.012049</td>\n",
       "      <td>0.024756</td>\n",
       "      <td>-0.008301</td>\n",
       "      <td>0.011550</td>\n",
       "    </tr>\n",
       "    <tr>\n",
       "      <th>Item_Visibility</th>\n",
       "      <td>-0.012049</td>\n",
       "      <td>1.000000</td>\n",
       "      <td>-0.001315</td>\n",
       "      <td>-0.074834</td>\n",
       "      <td>-0.128625</td>\n",
       "    </tr>\n",
       "    <tr>\n",
       "      <th>Item_MRP</th>\n",
       "      <td>0.024756</td>\n",
       "      <td>-0.001315</td>\n",
       "      <td>1.000000</td>\n",
       "      <td>0.005020</td>\n",
       "      <td>0.567574</td>\n",
       "    </tr>\n",
       "    <tr>\n",
       "      <th>Outlet_Establishment_Year</th>\n",
       "      <td>-0.008301</td>\n",
       "      <td>-0.074834</td>\n",
       "      <td>0.005020</td>\n",
       "      <td>1.000000</td>\n",
       "      <td>-0.049135</td>\n",
       "    </tr>\n",
       "    <tr>\n",
       "      <th>Item_Outlet_Sales</th>\n",
       "      <td>0.011550</td>\n",
       "      <td>-0.128625</td>\n",
       "      <td>0.567574</td>\n",
       "      <td>-0.049135</td>\n",
       "      <td>1.000000</td>\n",
       "    </tr>\n",
       "  </tbody>\n",
       "</table>\n",
       "</div>"
      ],
      "text/plain": [
       "                           Item_Weight  Item_Visibility  Item_MRP  \\\n",
       "Item_Weight                   1.000000        -0.012049  0.024756   \n",
       "Item_Visibility              -0.012049         1.000000 -0.001315   \n",
       "Item_MRP                      0.024756        -0.001315  1.000000   \n",
       "Outlet_Establishment_Year    -0.008301        -0.074834  0.005020   \n",
       "Item_Outlet_Sales             0.011550        -0.128625  0.567574   \n",
       "\n",
       "                           Outlet_Establishment_Year  Item_Outlet_Sales  \n",
       "Item_Weight                                -0.008301           0.011550  \n",
       "Item_Visibility                            -0.074834          -0.128625  \n",
       "Item_MRP                                    0.005020           0.567574  \n",
       "Outlet_Establishment_Year                   1.000000          -0.049135  \n",
       "Item_Outlet_Sales                          -0.049135           1.000000  "
      ]
     },
     "execution_count": 108,
     "metadata": {},
     "output_type": "execute_result"
    }
   ],
   "source": [
    "train.corr()"
   ]
  },
  {
   "cell_type": "code",
   "execution_count": 109,
   "metadata": {},
   "outputs": [],
   "source": [
    "#only item_mrp holds strong value of correlation with target variable : thus dropping all other variables in feature selection.!"
   ]
  },
  {
   "cell_type": "markdown",
   "metadata": {},
   "source": [
    "# Creating dummies!"
   ]
  },
  {
   "cell_type": "code",
   "execution_count": 110,
   "metadata": {},
   "outputs": [],
   "source": [
    "ifc = pd.get_dummies(train['Item_Fat_Content'])  ##dummies of item_fat_content"
   ]
  },
  {
   "cell_type": "code",
   "execution_count": 111,
   "metadata": {},
   "outputs": [],
   "source": [
    "it = pd.get_dummies(train['Item_Type']) ##dummies of item_type"
   ]
  },
  {
   "cell_type": "code",
   "execution_count": 112,
   "metadata": {},
   "outputs": [],
   "source": [
    "oz = pd.get_dummies(train['Outlet_Size'])  ##dummies of outlet size"
   ]
  },
  {
   "cell_type": "code",
   "execution_count": 114,
   "metadata": {},
   "outputs": [],
   "source": [
    "olt = pd.get_dummies(train['Outlet_Location_Type'])  ##dummies of outlet location type"
   ]
  },
  {
   "cell_type": "code",
   "execution_count": 115,
   "metadata": {},
   "outputs": [],
   "source": [
    "ot = pd.get_dummies(train['Outlet_Type']) ##dummies of outlet type"
   ]
  },
  {
   "cell_type": "markdown",
   "metadata": {},
   "source": [
    "# Dropping variables and adding dummies => creating filtered train file!"
   ]
  },
  {
   "cell_type": "code",
   "execution_count": 117,
   "metadata": {},
   "outputs": [],
   "source": [
    "train_1 = train[['Item_MRP','Item_Outlet_Sales']]"
   ]
  },
  {
   "cell_type": "code",
   "execution_count": 119,
   "metadata": {},
   "outputs": [],
   "source": [
    "train_alt1 = train_1.join(ifc) #adding dummies of item_fat_Content"
   ]
  },
  {
   "cell_type": "code",
   "execution_count": 120,
   "metadata": {},
   "outputs": [],
   "source": [
    "train_alt2 = train_alt1.join(it) #adding dummies of item_type"
   ]
  },
  {
   "cell_type": "code",
   "execution_count": 121,
   "metadata": {},
   "outputs": [],
   "source": [
    "train_alt3 = train_alt2.join(oz) #adding dummies of outlet_size"
   ]
  },
  {
   "cell_type": "code",
   "execution_count": 122,
   "metadata": {},
   "outputs": [],
   "source": [
    "train_alt4 = train_alt3.join(olt) #adding dummies of outlet location type"
   ]
  },
  {
   "cell_type": "code",
   "execution_count": 123,
   "metadata": {},
   "outputs": [],
   "source": [
    "train_df = train_alt4.join(ot) #adding dummies of outlet type"
   ]
  },
  {
   "cell_type": "code",
   "execution_count": 124,
   "metadata": {},
   "outputs": [
    {
     "data": {
      "text/html": [
       "<div>\n",
       "<style scoped>\n",
       "    .dataframe tbody tr th:only-of-type {\n",
       "        vertical-align: middle;\n",
       "    }\n",
       "\n",
       "    .dataframe tbody tr th {\n",
       "        vertical-align: top;\n",
       "    }\n",
       "\n",
       "    .dataframe thead th {\n",
       "        text-align: right;\n",
       "    }\n",
       "</style>\n",
       "<table border=\"1\" class=\"dataframe\">\n",
       "  <thead>\n",
       "    <tr style=\"text-align: right;\">\n",
       "      <th></th>\n",
       "      <th>Item_MRP</th>\n",
       "      <th>Item_Outlet_Sales</th>\n",
       "      <th>LF</th>\n",
       "      <th>Low Fat</th>\n",
       "      <th>Regular</th>\n",
       "      <th>low fat</th>\n",
       "      <th>reg</th>\n",
       "      <th>Baking Goods</th>\n",
       "      <th>Breads</th>\n",
       "      <th>Breakfast</th>\n",
       "      <th>...</th>\n",
       "      <th>High</th>\n",
       "      <th>Medium</th>\n",
       "      <th>Small</th>\n",
       "      <th>Tier 1</th>\n",
       "      <th>Tier 2</th>\n",
       "      <th>Tier 3</th>\n",
       "      <th>Grocery Store</th>\n",
       "      <th>Supermarket Type1</th>\n",
       "      <th>Supermarket Type2</th>\n",
       "      <th>Supermarket Type3</th>\n",
       "    </tr>\n",
       "  </thead>\n",
       "  <tbody>\n",
       "    <tr>\n",
       "      <th>0</th>\n",
       "      <td>249.8092</td>\n",
       "      <td>3735.1380</td>\n",
       "      <td>0</td>\n",
       "      <td>1</td>\n",
       "      <td>0</td>\n",
       "      <td>0</td>\n",
       "      <td>0</td>\n",
       "      <td>0</td>\n",
       "      <td>0</td>\n",
       "      <td>0</td>\n",
       "      <td>...</td>\n",
       "      <td>0</td>\n",
       "      <td>1</td>\n",
       "      <td>0</td>\n",
       "      <td>1</td>\n",
       "      <td>0</td>\n",
       "      <td>0</td>\n",
       "      <td>0</td>\n",
       "      <td>1</td>\n",
       "      <td>0</td>\n",
       "      <td>0</td>\n",
       "    </tr>\n",
       "    <tr>\n",
       "      <th>1</th>\n",
       "      <td>48.2692</td>\n",
       "      <td>443.4228</td>\n",
       "      <td>0</td>\n",
       "      <td>0</td>\n",
       "      <td>1</td>\n",
       "      <td>0</td>\n",
       "      <td>0</td>\n",
       "      <td>0</td>\n",
       "      <td>0</td>\n",
       "      <td>0</td>\n",
       "      <td>...</td>\n",
       "      <td>0</td>\n",
       "      <td>1</td>\n",
       "      <td>0</td>\n",
       "      <td>0</td>\n",
       "      <td>0</td>\n",
       "      <td>1</td>\n",
       "      <td>0</td>\n",
       "      <td>0</td>\n",
       "      <td>1</td>\n",
       "      <td>0</td>\n",
       "    </tr>\n",
       "    <tr>\n",
       "      <th>2</th>\n",
       "      <td>141.6180</td>\n",
       "      <td>2097.2700</td>\n",
       "      <td>0</td>\n",
       "      <td>1</td>\n",
       "      <td>0</td>\n",
       "      <td>0</td>\n",
       "      <td>0</td>\n",
       "      <td>0</td>\n",
       "      <td>0</td>\n",
       "      <td>0</td>\n",
       "      <td>...</td>\n",
       "      <td>0</td>\n",
       "      <td>1</td>\n",
       "      <td>0</td>\n",
       "      <td>1</td>\n",
       "      <td>0</td>\n",
       "      <td>0</td>\n",
       "      <td>0</td>\n",
       "      <td>1</td>\n",
       "      <td>0</td>\n",
       "      <td>0</td>\n",
       "    </tr>\n",
       "    <tr>\n",
       "      <th>3</th>\n",
       "      <td>182.0950</td>\n",
       "      <td>732.3800</td>\n",
       "      <td>0</td>\n",
       "      <td>0</td>\n",
       "      <td>1</td>\n",
       "      <td>0</td>\n",
       "      <td>0</td>\n",
       "      <td>0</td>\n",
       "      <td>0</td>\n",
       "      <td>0</td>\n",
       "      <td>...</td>\n",
       "      <td>0</td>\n",
       "      <td>1</td>\n",
       "      <td>0</td>\n",
       "      <td>0</td>\n",
       "      <td>0</td>\n",
       "      <td>1</td>\n",
       "      <td>1</td>\n",
       "      <td>0</td>\n",
       "      <td>0</td>\n",
       "      <td>0</td>\n",
       "    </tr>\n",
       "    <tr>\n",
       "      <th>4</th>\n",
       "      <td>53.8614</td>\n",
       "      <td>994.7052</td>\n",
       "      <td>0</td>\n",
       "      <td>1</td>\n",
       "      <td>0</td>\n",
       "      <td>0</td>\n",
       "      <td>0</td>\n",
       "      <td>0</td>\n",
       "      <td>0</td>\n",
       "      <td>0</td>\n",
       "      <td>...</td>\n",
       "      <td>1</td>\n",
       "      <td>0</td>\n",
       "      <td>0</td>\n",
       "      <td>0</td>\n",
       "      <td>0</td>\n",
       "      <td>1</td>\n",
       "      <td>0</td>\n",
       "      <td>1</td>\n",
       "      <td>0</td>\n",
       "      <td>0</td>\n",
       "    </tr>\n",
       "  </tbody>\n",
       "</table>\n",
       "<p>5 rows × 33 columns</p>\n",
       "</div>"
      ],
      "text/plain": [
       "   Item_MRP  Item_Outlet_Sales  LF  Low Fat  Regular  low fat  reg  \\\n",
       "0  249.8092          3735.1380   0        1        0        0    0   \n",
       "1   48.2692           443.4228   0        0        1        0    0   \n",
       "2  141.6180          2097.2700   0        1        0        0    0   \n",
       "3  182.0950           732.3800   0        0        1        0    0   \n",
       "4   53.8614           994.7052   0        1        0        0    0   \n",
       "\n",
       "   Baking Goods  Breads  Breakfast        ...          High  Medium  Small  \\\n",
       "0             0       0          0        ...             0       1      0   \n",
       "1             0       0          0        ...             0       1      0   \n",
       "2             0       0          0        ...             0       1      0   \n",
       "3             0       0          0        ...             0       1      0   \n",
       "4             0       0          0        ...             1       0      0   \n",
       "\n",
       "   Tier 1  Tier 2  Tier 3  Grocery Store  Supermarket Type1  \\\n",
       "0       1       0       0              0                  1   \n",
       "1       0       0       1              0                  0   \n",
       "2       1       0       0              0                  1   \n",
       "3       0       0       1              1                  0   \n",
       "4       0       0       1              0                  1   \n",
       "\n",
       "   Supermarket Type2  Supermarket Type3  \n",
       "0                  0                  0  \n",
       "1                  1                  0  \n",
       "2                  0                  0  \n",
       "3                  0                  0  \n",
       "4                  0                  0  \n",
       "\n",
       "[5 rows x 33 columns]"
      ]
     },
     "execution_count": 124,
     "metadata": {},
     "output_type": "execute_result"
    }
   ],
   "source": [
    "train_df.head()"
   ]
  },
  {
   "cell_type": "code",
   "execution_count": 125,
   "metadata": {},
   "outputs": [
    {
     "data": {
      "text/html": [
       "<div>\n",
       "<style scoped>\n",
       "    .dataframe tbody tr th:only-of-type {\n",
       "        vertical-align: middle;\n",
       "    }\n",
       "\n",
       "    .dataframe tbody tr th {\n",
       "        vertical-align: top;\n",
       "    }\n",
       "\n",
       "    .dataframe thead th {\n",
       "        text-align: right;\n",
       "    }\n",
       "</style>\n",
       "<table border=\"1\" class=\"dataframe\">\n",
       "  <thead>\n",
       "    <tr style=\"text-align: right;\">\n",
       "      <th></th>\n",
       "      <th>Item_MRP</th>\n",
       "      <th>Item_Outlet_Sales</th>\n",
       "      <th>LF</th>\n",
       "      <th>Low Fat</th>\n",
       "      <th>Regular</th>\n",
       "      <th>low fat</th>\n",
       "      <th>reg</th>\n",
       "      <th>Baking Goods</th>\n",
       "      <th>Breads</th>\n",
       "      <th>Breakfast</th>\n",
       "      <th>...</th>\n",
       "      <th>High</th>\n",
       "      <th>Medium</th>\n",
       "      <th>Small</th>\n",
       "      <th>Tier 1</th>\n",
       "      <th>Tier 2</th>\n",
       "      <th>Tier 3</th>\n",
       "      <th>Grocery Store</th>\n",
       "      <th>Supermarket Type1</th>\n",
       "      <th>Supermarket Type2</th>\n",
       "      <th>Supermarket Type3</th>\n",
       "    </tr>\n",
       "  </thead>\n",
       "  <tbody>\n",
       "    <tr>\n",
       "      <th>Item_MRP</th>\n",
       "      <td>1.000000</td>\n",
       "      <td>0.567574</td>\n",
       "      <td>-0.006947</td>\n",
       "      <td>-0.000466</td>\n",
       "      <td>0.008299</td>\n",
       "      <td>-0.011904</td>\n",
       "      <td>-0.008865</td>\n",
       "      <td>-0.067311</td>\n",
       "      <td>-0.000112</td>\n",
       "      <td>0.001460</td>\n",
       "      <td>...</td>\n",
       "      <td>0.002438</td>\n",
       "      <td>-0.010578</td>\n",
       "      <td>0.009793</td>\n",
       "      <td>-0.001229</td>\n",
       "      <td>0.001951</td>\n",
       "      <td>-0.000744</td>\n",
       "      <td>-0.004277</td>\n",
       "      <td>0.004885</td>\n",
       "      <td>0.003850</td>\n",
       "      <td>-0.006714</td>\n",
       "    </tr>\n",
       "    <tr>\n",
       "      <th>Item_Outlet_Sales</th>\n",
       "      <td>0.567574</td>\n",
       "      <td>1.000000</td>\n",
       "      <td>-0.012389</td>\n",
       "      <td>-0.011993</td>\n",
       "      <td>0.022618</td>\n",
       "      <td>-0.006326</td>\n",
       "      <td>-0.015148</td>\n",
       "      <td>-0.038381</td>\n",
       "      <td>0.002332</td>\n",
       "      <td>-0.004656</td>\n",
       "      <td>...</td>\n",
       "      <td>0.024170</td>\n",
       "      <td>0.075154</td>\n",
       "      <td>-0.098403</td>\n",
       "      <td>-0.111287</td>\n",
       "      <td>0.058261</td>\n",
       "      <td>0.046376</td>\n",
       "      <td>-0.411727</td>\n",
       "      <td>0.108765</td>\n",
       "      <td>-0.038059</td>\n",
       "      <td>0.311192</td>\n",
       "    </tr>\n",
       "    <tr>\n",
       "      <th>LF</th>\n",
       "      <td>-0.006947</td>\n",
       "      <td>-0.012389</td>\n",
       "      <td>1.000000</td>\n",
       "      <td>-0.238873</td>\n",
       "      <td>-0.140513</td>\n",
       "      <td>-0.022643</td>\n",
       "      <td>-0.023150</td>\n",
       "      <td>-0.009431</td>\n",
       "      <td>-0.004797</td>\n",
       "      <td>-0.011434</td>\n",
       "      <td>...</td>\n",
       "      <td>-0.005084</td>\n",
       "      <td>-0.006249</td>\n",
       "      <td>0.010318</td>\n",
       "      <td>-0.006275</td>\n",
       "      <td>-0.010932</td>\n",
       "      <td>0.016267</td>\n",
       "      <td>0.009036</td>\n",
       "      <td>-0.019290</td>\n",
       "      <td>0.015137</td>\n",
       "      <td>0.004637</td>\n",
       "    </tr>\n",
       "    <tr>\n",
       "      <th>Low Fat</th>\n",
       "      <td>-0.000466</td>\n",
       "      <td>-0.011993</td>\n",
       "      <td>-0.238873</td>\n",
       "      <td>1.000000</td>\n",
       "      <td>-0.871729</td>\n",
       "      <td>-0.140476</td>\n",
       "      <td>-0.143620</td>\n",
       "      <td>-0.077541</td>\n",
       "      <td>-0.033774</td>\n",
       "      <td>-0.056544</td>\n",
       "      <td>...</td>\n",
       "      <td>-0.000374</td>\n",
       "      <td>0.000657</td>\n",
       "      <td>-0.000454</td>\n",
       "      <td>0.000079</td>\n",
       "      <td>0.008213</td>\n",
       "      <td>-0.007960</td>\n",
       "      <td>-0.003339</td>\n",
       "      <td>0.008565</td>\n",
       "      <td>-0.005452</td>\n",
       "      <td>-0.004041</td>\n",
       "    </tr>\n",
       "    <tr>\n",
       "      <th>Regular</th>\n",
       "      <td>0.008299</td>\n",
       "      <td>0.022618</td>\n",
       "      <td>-0.140513</td>\n",
       "      <td>-0.871729</td>\n",
       "      <td>1.000000</td>\n",
       "      <td>-0.082632</td>\n",
       "      <td>-0.084482</td>\n",
       "      <td>0.080754</td>\n",
       "      <td>0.033603</td>\n",
       "      <td>0.065253</td>\n",
       "      <td>...</td>\n",
       "      <td>-0.002316</td>\n",
       "      <td>0.000693</td>\n",
       "      <td>0.000856</td>\n",
       "      <td>0.001960</td>\n",
       "      <td>-0.002123</td>\n",
       "      <td>0.000237</td>\n",
       "      <td>-0.002307</td>\n",
       "      <td>-0.000734</td>\n",
       "      <td>-0.002037</td>\n",
       "      <td>0.005605</td>\n",
       "    </tr>\n",
       "    <tr>\n",
       "      <th>low fat</th>\n",
       "      <td>-0.011904</td>\n",
       "      <td>-0.006326</td>\n",
       "      <td>-0.022643</td>\n",
       "      <td>-0.140476</td>\n",
       "      <td>-0.082632</td>\n",
       "      <td>1.000000</td>\n",
       "      <td>-0.013614</td>\n",
       "      <td>-0.002003</td>\n",
       "      <td>0.016464</td>\n",
       "      <td>-0.013195</td>\n",
       "      <td>...</td>\n",
       "      <td>0.018992</td>\n",
       "      <td>-0.007125</td>\n",
       "      <td>-0.005461</td>\n",
       "      <td>-0.003167</td>\n",
       "      <td>-0.003509</td>\n",
       "      <td>0.006282</td>\n",
       "      <td>0.011658</td>\n",
       "      <td>-0.007121</td>\n",
       "      <td>-0.010567</td>\n",
       "      <td>0.008945</td>\n",
       "    </tr>\n",
       "    <tr>\n",
       "      <th>reg</th>\n",
       "      <td>-0.008865</td>\n",
       "      <td>-0.015148</td>\n",
       "      <td>-0.023150</td>\n",
       "      <td>-0.143620</td>\n",
       "      <td>-0.084482</td>\n",
       "      <td>-0.013614</td>\n",
       "      <td>1.000000</td>\n",
       "      <td>0.015616</td>\n",
       "      <td>-0.002658</td>\n",
       "      <td>0.004377</td>\n",
       "      <td>...</td>\n",
       "      <td>0.000665</td>\n",
       "      <td>0.011529</td>\n",
       "      <td>-0.012981</td>\n",
       "      <td>0.004981</td>\n",
       "      <td>-0.004797</td>\n",
       "      <td>0.000026</td>\n",
       "      <td>-0.002625</td>\n",
       "      <td>0.005176</td>\n",
       "      <td>0.017030</td>\n",
       "      <td>-0.022054</td>\n",
       "    </tr>\n",
       "    <tr>\n",
       "      <th>Baking Goods</th>\n",
       "      <td>-0.067311</td>\n",
       "      <td>-0.038381</td>\n",
       "      <td>-0.009431</td>\n",
       "      <td>-0.077541</td>\n",
       "      <td>0.080754</td>\n",
       "      <td>-0.002003</td>\n",
       "      <td>0.015616</td>\n",
       "      <td>1.000000</td>\n",
       "      <td>-0.049968</td>\n",
       "      <td>-0.032801</td>\n",
       "      <td>...</td>\n",
       "      <td>0.003036</td>\n",
       "      <td>-0.006883</td>\n",
       "      <td>0.005364</td>\n",
       "      <td>0.003392</td>\n",
       "      <td>-0.000701</td>\n",
       "      <td>-0.002446</td>\n",
       "      <td>0.003536</td>\n",
       "      <td>0.001846</td>\n",
       "      <td>-0.003632</td>\n",
       "      <td>-0.002957</td>\n",
       "    </tr>\n",
       "    <tr>\n",
       "      <th>Breads</th>\n",
       "      <td>-0.000112</td>\n",
       "      <td>0.002332</td>\n",
       "      <td>-0.004797</td>\n",
       "      <td>-0.033774</td>\n",
       "      <td>0.033603</td>\n",
       "      <td>0.016464</td>\n",
       "      <td>-0.002658</td>\n",
       "      <td>-0.049968</td>\n",
       "      <td>1.000000</td>\n",
       "      <td>-0.019918</td>\n",
       "      <td>...</td>\n",
       "      <td>-0.005442</td>\n",
       "      <td>0.002523</td>\n",
       "      <td>0.001042</td>\n",
       "      <td>-0.005140</td>\n",
       "      <td>0.002933</td>\n",
       "      <td>0.001909</td>\n",
       "      <td>0.002305</td>\n",
       "      <td>-0.006189</td>\n",
       "      <td>-0.000734</td>\n",
       "      <td>0.007693</td>\n",
       "    </tr>\n",
       "    <tr>\n",
       "      <th>Breakfast</th>\n",
       "      <td>0.001460</td>\n",
       "      <td>-0.004656</td>\n",
       "      <td>-0.011434</td>\n",
       "      <td>-0.056544</td>\n",
       "      <td>0.065253</td>\n",
       "      <td>-0.013195</td>\n",
       "      <td>0.004377</td>\n",
       "      <td>-0.032801</td>\n",
       "      <td>-0.019918</td>\n",
       "      <td>1.000000</td>\n",
       "      <td>...</td>\n",
       "      <td>0.003236</td>\n",
       "      <td>-0.000322</td>\n",
       "      <td>-0.001898</td>\n",
       "      <td>0.005046</td>\n",
       "      <td>-0.008741</td>\n",
       "      <td>0.003754</td>\n",
       "      <td>0.015676</td>\n",
       "      <td>-0.008695</td>\n",
       "      <td>0.000077</td>\n",
       "      <td>-0.003550</td>\n",
       "    </tr>\n",
       "    <tr>\n",
       "      <th>Canned</th>\n",
       "      <td>-0.005666</td>\n",
       "      <td>0.007387</td>\n",
       "      <td>-0.016534</td>\n",
       "      <td>-0.066300</td>\n",
       "      <td>0.071969</td>\n",
       "      <td>0.005716</td>\n",
       "      <td>0.007949</td>\n",
       "      <td>-0.082354</td>\n",
       "      <td>-0.050010</td>\n",
       "      <td>-0.032828</td>\n",
       "      <td>...</td>\n",
       "      <td>-0.008461</td>\n",
       "      <td>-0.001082</td>\n",
       "      <td>0.007054</td>\n",
       "      <td>-0.004766</td>\n",
       "      <td>0.009366</td>\n",
       "      <td>-0.004612</td>\n",
       "      <td>-0.012574</td>\n",
       "      <td>0.001236</td>\n",
       "      <td>0.010418</td>\n",
       "      <td>0.001136</td>\n",
       "    </tr>\n",
       "    <tr>\n",
       "      <th>Dairy</th>\n",
       "      <td>0.035551</td>\n",
       "      <td>0.008858</td>\n",
       "      <td>-0.002943</td>\n",
       "      <td>-0.022231</td>\n",
       "      <td>0.024507</td>\n",
       "      <td>0.011536</td>\n",
       "      <td>-0.012495</td>\n",
       "      <td>-0.084600</td>\n",
       "      <td>-0.051373</td>\n",
       "      <td>-0.033723</td>\n",
       "      <td>...</td>\n",
       "      <td>0.007514</td>\n",
       "      <td>-0.010941</td>\n",
       "      <td>0.006659</td>\n",
       "      <td>0.013399</td>\n",
       "      <td>-0.008162</td>\n",
       "      <td>-0.004482</td>\n",
       "      <td>0.006933</td>\n",
       "      <td>0.003396</td>\n",
       "      <td>-0.001746</td>\n",
       "      <td>-0.010817</td>\n",
       "    </tr>\n",
       "    <tr>\n",
       "      <th>Frozen Foods</th>\n",
       "      <td>-0.013358</td>\n",
       "      <td>-0.009482</td>\n",
       "      <td>-0.020116</td>\n",
       "      <td>-0.069325</td>\n",
       "      <td>0.079862</td>\n",
       "      <td>-0.024847</td>\n",
       "      <td>0.024319</td>\n",
       "      <td>-0.095849</td>\n",
       "      <td>-0.058204</td>\n",
       "      <td>-0.038207</td>\n",
       "      <td>...</td>\n",
       "      <td>-0.002007</td>\n",
       "      <td>-0.006051</td>\n",
       "      <td>0.007965</td>\n",
       "      <td>0.008834</td>\n",
       "      <td>-0.000590</td>\n",
       "      <td>-0.007556</td>\n",
       "      <td>-0.006763</td>\n",
       "      <td>0.009750</td>\n",
       "      <td>-0.001507</td>\n",
       "      <td>-0.006128</td>\n",
       "    </tr>\n",
       "    <tr>\n",
       "      <th>Fruits and Vegetables</th>\n",
       "      <td>0.023688</td>\n",
       "      <td>0.025950</td>\n",
       "      <td>-0.011792</td>\n",
       "      <td>-0.105859</td>\n",
       "      <td>0.112353</td>\n",
       "      <td>-0.015205</td>\n",
       "      <td>0.023191</td>\n",
       "      <td>-0.117916</td>\n",
       "      <td>-0.071605</td>\n",
       "      <td>-0.047004</td>\n",
       "      <td>...</td>\n",
       "      <td>0.007783</td>\n",
       "      <td>0.006778</td>\n",
       "      <td>-0.012768</td>\n",
       "      <td>-0.006082</td>\n",
       "      <td>-0.002541</td>\n",
       "      <td>0.008032</td>\n",
       "      <td>-0.004556</td>\n",
       "      <td>-0.000811</td>\n",
       "      <td>0.000919</td>\n",
       "      <td>0.005173</td>\n",
       "    </tr>\n",
       "    <tr>\n",
       "      <th>Hard Drinks</th>\n",
       "      <td>-0.010089</td>\n",
       "      <td>-0.003956</td>\n",
       "      <td>0.000261</td>\n",
       "      <td>0.108896</td>\n",
       "      <td>-0.114921</td>\n",
       "      <td>0.027578</td>\n",
       "      <td>-0.018933</td>\n",
       "      <td>-0.046036</td>\n",
       "      <td>-0.027955</td>\n",
       "      <td>-0.018351</td>\n",
       "      <td>...</td>\n",
       "      <td>-0.000964</td>\n",
       "      <td>0.015933</td>\n",
       "      <td>-0.016631</td>\n",
       "      <td>-0.003272</td>\n",
       "      <td>0.003314</td>\n",
       "      <td>-0.000174</td>\n",
       "      <td>-0.007189</td>\n",
       "      <td>0.007837</td>\n",
       "      <td>-0.003132</td>\n",
       "      <td>-0.001143</td>\n",
       "    </tr>\n",
       "    <tr>\n",
       "      <th>Health and Hygiene</th>\n",
       "      <td>-0.041646</td>\n",
       "      <td>-0.025587</td>\n",
       "      <td>0.025218</td>\n",
       "      <td>0.170414</td>\n",
       "      <td>-0.182533</td>\n",
       "      <td>0.013631</td>\n",
       "      <td>-0.030073</td>\n",
       "      <td>-0.073120</td>\n",
       "      <td>-0.044402</td>\n",
       "      <td>-0.029147</td>\n",
       "      <td>...</td>\n",
       "      <td>0.006499</td>\n",
       "      <td>0.005587</td>\n",
       "      <td>-0.010583</td>\n",
       "      <td>-0.008400</td>\n",
       "      <td>-0.004093</td>\n",
       "      <td>0.011654</td>\n",
       "      <td>0.001361</td>\n",
       "      <td>-0.005422</td>\n",
       "      <td>0.002174</td>\n",
       "      <td>0.004634</td>\n",
       "    </tr>\n",
       "    <tr>\n",
       "      <th>Household</th>\n",
       "      <td>0.046815</td>\n",
       "      <td>0.015701</td>\n",
       "      <td>0.040739</td>\n",
       "      <td>0.229783</td>\n",
       "      <td>-0.247576</td>\n",
       "      <td>0.013484</td>\n",
       "      <td>-0.040789</td>\n",
       "      <td>-0.099176</td>\n",
       "      <td>-0.060225</td>\n",
       "      <td>-0.039533</td>\n",
       "      <td>...</td>\n",
       "      <td>0.004249</td>\n",
       "      <td>-0.004304</td>\n",
       "      <td>0.001720</td>\n",
       "      <td>-0.004202</td>\n",
       "      <td>-0.001097</td>\n",
       "      <td>0.004917</td>\n",
       "      <td>0.003842</td>\n",
       "      <td>0.001234</td>\n",
       "      <td>-0.004979</td>\n",
       "      <td>-0.001009</td>\n",
       "    </tr>\n",
       "    <tr>\n",
       "      <th>Meat</th>\n",
       "      <td>-0.004086</td>\n",
       "      <td>-0.002995</td>\n",
       "      <td>-0.016425</td>\n",
       "      <td>-0.104144</td>\n",
       "      <td>0.118361</td>\n",
       "      <td>-0.021702</td>\n",
       "      <td>0.005401</td>\n",
       "      <td>-0.065715</td>\n",
       "      <td>-0.039906</td>\n",
       "      <td>-0.026195</td>\n",
       "      <td>...</td>\n",
       "      <td>-0.009455</td>\n",
       "      <td>0.006137</td>\n",
       "      <td>-0.000093</td>\n",
       "      <td>0.004708</td>\n",
       "      <td>-0.015945</td>\n",
       "      <td>0.010983</td>\n",
       "      <td>0.019416</td>\n",
       "      <td>-0.023912</td>\n",
       "      <td>-0.000476</td>\n",
       "      <td>0.016172</td>\n",
       "    </tr>\n",
       "    <tr>\n",
       "      <th>Others</th>\n",
       "      <td>-0.018595</td>\n",
       "      <td>-0.021267</td>\n",
       "      <td>0.021087</td>\n",
       "      <td>0.094531</td>\n",
       "      <td>-0.101850</td>\n",
       "      <td>-0.001632</td>\n",
       "      <td>-0.016780</td>\n",
       "      <td>-0.040800</td>\n",
       "      <td>-0.024776</td>\n",
       "      <td>-0.016264</td>\n",
       "      <td>...</td>\n",
       "      <td>-0.006689</td>\n",
       "      <td>-0.008920</td>\n",
       "      <td>0.014335</td>\n",
       "      <td>0.016209</td>\n",
       "      <td>-0.005783</td>\n",
       "      <td>-0.009350</td>\n",
       "      <td>0.013963</td>\n",
       "      <td>-0.006344</td>\n",
       "      <td>0.004320</td>\n",
       "      <td>-0.009533</td>\n",
       "    </tr>\n",
       "    <tr>\n",
       "      <th>Seafood</th>\n",
       "      <td>0.001186</td>\n",
       "      <td>0.007380</td>\n",
       "      <td>0.011704</td>\n",
       "      <td>-0.017218</td>\n",
       "      <td>0.015235</td>\n",
       "      <td>0.001897</td>\n",
       "      <td>-0.010262</td>\n",
       "      <td>-0.024951</td>\n",
       "      <td>-0.015152</td>\n",
       "      <td>-0.009946</td>\n",
       "      <td>...</td>\n",
       "      <td>-0.008703</td>\n",
       "      <td>-0.000195</td>\n",
       "      <td>0.006259</td>\n",
       "      <td>0.003233</td>\n",
       "      <td>0.003150</td>\n",
       "      <td>-0.005998</td>\n",
       "      <td>0.007621</td>\n",
       "      <td>-0.005367</td>\n",
       "      <td>0.000138</td>\n",
       "      <td>-0.000091</td>\n",
       "    </tr>\n",
       "    <tr>\n",
       "      <th>Snack Foods</th>\n",
       "      <td>0.033817</td>\n",
       "      <td>0.022782</td>\n",
       "      <td>-0.024087</td>\n",
       "      <td>-0.049181</td>\n",
       "      <td>0.055759</td>\n",
       "      <td>0.000684</td>\n",
       "      <td>0.018922</td>\n",
       "      <td>-0.116120</td>\n",
       "      <td>-0.070514</td>\n",
       "      <td>-0.046288</td>\n",
       "      <td>...</td>\n",
       "      <td>-0.006725</td>\n",
       "      <td>0.005147</td>\n",
       "      <td>-0.000916</td>\n",
       "      <td>-0.001667</td>\n",
       "      <td>0.006390</td>\n",
       "      <td>-0.004603</td>\n",
       "      <td>-0.006565</td>\n",
       "      <td>-0.000154</td>\n",
       "      <td>0.001453</td>\n",
       "      <td>0.005782</td>\n",
       "    </tr>\n",
       "    <tr>\n",
       "      <th>Soft Drinks</th>\n",
       "      <td>-0.035808</td>\n",
       "      <td>-0.024040</td>\n",
       "      <td>0.032104</td>\n",
       "      <td>0.078817</td>\n",
       "      <td>-0.090075</td>\n",
       "      <td>0.005337</td>\n",
       "      <td>-0.023157</td>\n",
       "      <td>-0.067327</td>\n",
       "      <td>-0.040885</td>\n",
       "      <td>-0.026838</td>\n",
       "      <td>...</td>\n",
       "      <td>0.000572</td>\n",
       "      <td>-0.001793</td>\n",
       "      <td>0.001549</td>\n",
       "      <td>-0.005498</td>\n",
       "      <td>0.013034</td>\n",
       "      <td>-0.007461</td>\n",
       "      <td>-0.004031</td>\n",
       "      <td>0.009777</td>\n",
       "      <td>-0.004153</td>\n",
       "      <td>-0.006443</td>\n",
       "    </tr>\n",
       "    <tr>\n",
       "      <th>Starchy Foods</th>\n",
       "      <td>0.014613</td>\n",
       "      <td>0.015039</td>\n",
       "      <td>0.016699</td>\n",
       "      <td>-0.029977</td>\n",
       "      <td>0.016761</td>\n",
       "      <td>-0.007452</td>\n",
       "      <td>0.038352</td>\n",
       "      <td>-0.038133</td>\n",
       "      <td>-0.023156</td>\n",
       "      <td>-0.015201</td>\n",
       "      <td>...</td>\n",
       "      <td>0.008105</td>\n",
       "      <td>0.001199</td>\n",
       "      <td>-0.006934</td>\n",
       "      <td>-0.010935</td>\n",
       "      <td>0.008884</td>\n",
       "      <td>0.001523</td>\n",
       "      <td>-0.015658</td>\n",
       "      <td>0.013516</td>\n",
       "      <td>0.002553</td>\n",
       "      <td>-0.006427</td>\n",
       "    </tr>\n",
       "    <tr>\n",
       "      <th>High</th>\n",
       "      <td>0.002438</td>\n",
       "      <td>0.024170</td>\n",
       "      <td>-0.005084</td>\n",
       "      <td>-0.000374</td>\n",
       "      <td>-0.002316</td>\n",
       "      <td>0.018992</td>\n",
       "      <td>0.000665</td>\n",
       "      <td>0.003036</td>\n",
       "      <td>-0.005442</td>\n",
       "      <td>0.003236</td>\n",
       "      <td>...</td>\n",
       "      <td>1.000000</td>\n",
       "      <td>-0.438648</td>\n",
       "      <td>-0.218609</td>\n",
       "      <td>-0.218609</td>\n",
       "      <td>-0.244113</td>\n",
       "      <td>0.435419</td>\n",
       "      <td>-0.133686</td>\n",
       "      <td>0.254668</td>\n",
       "      <td>-0.122481</td>\n",
       "      <td>-0.122999</td>\n",
       "    </tr>\n",
       "    <tr>\n",
       "      <th>Medium</th>\n",
       "      <td>-0.010578</td>\n",
       "      <td>0.075154</td>\n",
       "      <td>-0.006249</td>\n",
       "      <td>0.000657</td>\n",
       "      <td>0.000693</td>\n",
       "      <td>-0.007125</td>\n",
       "      <td>0.011529</td>\n",
       "      <td>-0.006883</td>\n",
       "      <td>0.002523</td>\n",
       "      <td>-0.000322</td>\n",
       "      <td>...</td>\n",
       "      <td>-0.438648</td>\n",
       "      <td>1.000000</td>\n",
       "      <td>-0.781030</td>\n",
       "      <td>-0.282771</td>\n",
       "      <td>0.079437</td>\n",
       "      <td>0.183714</td>\n",
       "      <td>-0.076675</td>\n",
       "      <td>-0.313450</td>\n",
       "      <td>0.279224</td>\n",
       "      <td>0.280404</td>\n",
       "    </tr>\n",
       "    <tr>\n",
       "      <th>Small</th>\n",
       "      <td>0.009793</td>\n",
       "      <td>-0.098403</td>\n",
       "      <td>0.010318</td>\n",
       "      <td>-0.000454</td>\n",
       "      <td>0.000856</td>\n",
       "      <td>-0.005461</td>\n",
       "      <td>-0.012981</td>\n",
       "      <td>0.005364</td>\n",
       "      <td>0.001042</td>\n",
       "      <td>-0.001898</td>\n",
       "      <td>...</td>\n",
       "      <td>-0.218609</td>\n",
       "      <td>-0.781030</td>\n",
       "      <td>1.000000</td>\n",
       "      <td>0.458964</td>\n",
       "      <td>0.083381</td>\n",
       "      <td>-0.502066</td>\n",
       "      <td>0.176158</td>\n",
       "      <td>0.163388</td>\n",
       "      <td>-0.218082</td>\n",
       "      <td>-0.219004</td>\n",
       "    </tr>\n",
       "    <tr>\n",
       "      <th>Tier 1</th>\n",
       "      <td>-0.001229</td>\n",
       "      <td>-0.111287</td>\n",
       "      <td>-0.006275</td>\n",
       "      <td>0.000079</td>\n",
       "      <td>0.001960</td>\n",
       "      <td>-0.003167</td>\n",
       "      <td>0.004981</td>\n",
       "      <td>0.003392</td>\n",
       "      <td>-0.005140</td>\n",
       "      <td>0.005046</td>\n",
       "      <td>...</td>\n",
       "      <td>-0.218609</td>\n",
       "      <td>-0.282771</td>\n",
       "      <td>0.458964</td>\n",
       "      <td>1.000000</td>\n",
       "      <td>-0.434653</td>\n",
       "      <td>-0.502066</td>\n",
       "      <td>0.176158</td>\n",
       "      <td>0.163388</td>\n",
       "      <td>-0.218082</td>\n",
       "      <td>-0.219004</td>\n",
       "    </tr>\n",
       "    <tr>\n",
       "      <th>Tier 2</th>\n",
       "      <td>0.001951</td>\n",
       "      <td>0.058261</td>\n",
       "      <td>-0.010932</td>\n",
       "      <td>0.008213</td>\n",
       "      <td>-0.002123</td>\n",
       "      <td>-0.003509</td>\n",
       "      <td>-0.004797</td>\n",
       "      <td>-0.000701</td>\n",
       "      <td>0.002933</td>\n",
       "      <td>-0.008741</td>\n",
       "      <td>...</td>\n",
       "      <td>-0.244113</td>\n",
       "      <td>0.079437</td>\n",
       "      <td>0.083381</td>\n",
       "      <td>-0.434653</td>\n",
       "      <td>1.000000</td>\n",
       "      <td>-0.560639</td>\n",
       "      <td>-0.265803</td>\n",
       "      <td>0.506347</td>\n",
       "      <td>-0.243524</td>\n",
       "      <td>-0.244554</td>\n",
       "    </tr>\n",
       "    <tr>\n",
       "      <th>Tier 3</th>\n",
       "      <td>-0.000744</td>\n",
       "      <td>0.046376</td>\n",
       "      <td>0.016267</td>\n",
       "      <td>-0.007960</td>\n",
       "      <td>0.000237</td>\n",
       "      <td>0.006282</td>\n",
       "      <td>0.000026</td>\n",
       "      <td>-0.002446</td>\n",
       "      <td>0.001909</td>\n",
       "      <td>0.003754</td>\n",
       "      <td>...</td>\n",
       "      <td>0.435419</td>\n",
       "      <td>0.183714</td>\n",
       "      <td>-0.502066</td>\n",
       "      <td>-0.502066</td>\n",
       "      <td>-0.560639</td>\n",
       "      <td>1.000000</td>\n",
       "      <td>0.093276</td>\n",
       "      <td>-0.636465</td>\n",
       "      <td>0.434369</td>\n",
       "      <td>0.436205</td>\n",
       "    </tr>\n",
       "    <tr>\n",
       "      <th>Grocery Store</th>\n",
       "      <td>-0.004277</td>\n",
       "      <td>-0.411727</td>\n",
       "      <td>0.009036</td>\n",
       "      <td>-0.003339</td>\n",
       "      <td>-0.002307</td>\n",
       "      <td>0.011658</td>\n",
       "      <td>-0.002625</td>\n",
       "      <td>0.003536</td>\n",
       "      <td>0.002305</td>\n",
       "      <td>0.015676</td>\n",
       "      <td>...</td>\n",
       "      <td>-0.133686</td>\n",
       "      <td>-0.076675</td>\n",
       "      <td>0.176158</td>\n",
       "      <td>0.176158</td>\n",
       "      <td>-0.265803</td>\n",
       "      <td>0.093276</td>\n",
       "      <td>1.000000</td>\n",
       "      <td>-0.524942</td>\n",
       "      <td>-0.133364</td>\n",
       "      <td>-0.133928</td>\n",
       "    </tr>\n",
       "    <tr>\n",
       "      <th>Supermarket Type1</th>\n",
       "      <td>0.004885</td>\n",
       "      <td>0.108765</td>\n",
       "      <td>-0.019290</td>\n",
       "      <td>0.008565</td>\n",
       "      <td>-0.000734</td>\n",
       "      <td>-0.007121</td>\n",
       "      <td>0.005176</td>\n",
       "      <td>0.001846</td>\n",
       "      <td>-0.006189</td>\n",
       "      <td>-0.008695</td>\n",
       "      <td>...</td>\n",
       "      <td>0.254668</td>\n",
       "      <td>-0.313450</td>\n",
       "      <td>0.163388</td>\n",
       "      <td>0.163388</td>\n",
       "      <td>0.506347</td>\n",
       "      <td>-0.636465</td>\n",
       "      <td>-0.524942</td>\n",
       "      <td>1.000000</td>\n",
       "      <td>-0.480943</td>\n",
       "      <td>-0.482977</td>\n",
       "    </tr>\n",
       "    <tr>\n",
       "      <th>Supermarket Type2</th>\n",
       "      <td>0.003850</td>\n",
       "      <td>-0.038059</td>\n",
       "      <td>0.015137</td>\n",
       "      <td>-0.005452</td>\n",
       "      <td>-0.002037</td>\n",
       "      <td>-0.010567</td>\n",
       "      <td>0.017030</td>\n",
       "      <td>-0.003632</td>\n",
       "      <td>-0.000734</td>\n",
       "      <td>0.000077</td>\n",
       "      <td>...</td>\n",
       "      <td>-0.122481</td>\n",
       "      <td>0.279224</td>\n",
       "      <td>-0.218082</td>\n",
       "      <td>-0.218082</td>\n",
       "      <td>-0.243524</td>\n",
       "      <td>0.434369</td>\n",
       "      <td>-0.133364</td>\n",
       "      <td>-0.480943</td>\n",
       "      <td>1.000000</td>\n",
       "      <td>-0.122702</td>\n",
       "    </tr>\n",
       "    <tr>\n",
       "      <th>Supermarket Type3</th>\n",
       "      <td>-0.006714</td>\n",
       "      <td>0.311192</td>\n",
       "      <td>0.004637</td>\n",
       "      <td>-0.004041</td>\n",
       "      <td>0.005605</td>\n",
       "      <td>0.008945</td>\n",
       "      <td>-0.022054</td>\n",
       "      <td>-0.002957</td>\n",
       "      <td>0.007693</td>\n",
       "      <td>-0.003550</td>\n",
       "      <td>...</td>\n",
       "      <td>-0.122999</td>\n",
       "      <td>0.280404</td>\n",
       "      <td>-0.219004</td>\n",
       "      <td>-0.219004</td>\n",
       "      <td>-0.244554</td>\n",
       "      <td>0.436205</td>\n",
       "      <td>-0.133928</td>\n",
       "      <td>-0.482977</td>\n",
       "      <td>-0.122702</td>\n",
       "      <td>1.000000</td>\n",
       "    </tr>\n",
       "  </tbody>\n",
       "</table>\n",
       "<p>33 rows × 33 columns</p>\n",
       "</div>"
      ],
      "text/plain": [
       "                       Item_MRP  Item_Outlet_Sales        LF   Low Fat  \\\n",
       "Item_MRP               1.000000           0.567574 -0.006947 -0.000466   \n",
       "Item_Outlet_Sales      0.567574           1.000000 -0.012389 -0.011993   \n",
       "LF                    -0.006947          -0.012389  1.000000 -0.238873   \n",
       "Low Fat               -0.000466          -0.011993 -0.238873  1.000000   \n",
       "Regular                0.008299           0.022618 -0.140513 -0.871729   \n",
       "low fat               -0.011904          -0.006326 -0.022643 -0.140476   \n",
       "reg                   -0.008865          -0.015148 -0.023150 -0.143620   \n",
       "Baking Goods          -0.067311          -0.038381 -0.009431 -0.077541   \n",
       "Breads                -0.000112           0.002332 -0.004797 -0.033774   \n",
       "Breakfast              0.001460          -0.004656 -0.011434 -0.056544   \n",
       "Canned                -0.005666           0.007387 -0.016534 -0.066300   \n",
       "Dairy                  0.035551           0.008858 -0.002943 -0.022231   \n",
       "Frozen Foods          -0.013358          -0.009482 -0.020116 -0.069325   \n",
       "Fruits and Vegetables  0.023688           0.025950 -0.011792 -0.105859   \n",
       "Hard Drinks           -0.010089          -0.003956  0.000261  0.108896   \n",
       "Health and Hygiene    -0.041646          -0.025587  0.025218  0.170414   \n",
       "Household              0.046815           0.015701  0.040739  0.229783   \n",
       "Meat                  -0.004086          -0.002995 -0.016425 -0.104144   \n",
       "Others                -0.018595          -0.021267  0.021087  0.094531   \n",
       "Seafood                0.001186           0.007380  0.011704 -0.017218   \n",
       "Snack Foods            0.033817           0.022782 -0.024087 -0.049181   \n",
       "Soft Drinks           -0.035808          -0.024040  0.032104  0.078817   \n",
       "Starchy Foods          0.014613           0.015039  0.016699 -0.029977   \n",
       "High                   0.002438           0.024170 -0.005084 -0.000374   \n",
       "Medium                -0.010578           0.075154 -0.006249  0.000657   \n",
       "Small                  0.009793          -0.098403  0.010318 -0.000454   \n",
       "Tier 1                -0.001229          -0.111287 -0.006275  0.000079   \n",
       "Tier 2                 0.001951           0.058261 -0.010932  0.008213   \n",
       "Tier 3                -0.000744           0.046376  0.016267 -0.007960   \n",
       "Grocery Store         -0.004277          -0.411727  0.009036 -0.003339   \n",
       "Supermarket Type1      0.004885           0.108765 -0.019290  0.008565   \n",
       "Supermarket Type2      0.003850          -0.038059  0.015137 -0.005452   \n",
       "Supermarket Type3     -0.006714           0.311192  0.004637 -0.004041   \n",
       "\n",
       "                        Regular   low fat       reg  Baking Goods    Breads  \\\n",
       "Item_MRP               0.008299 -0.011904 -0.008865     -0.067311 -0.000112   \n",
       "Item_Outlet_Sales      0.022618 -0.006326 -0.015148     -0.038381  0.002332   \n",
       "LF                    -0.140513 -0.022643 -0.023150     -0.009431 -0.004797   \n",
       "Low Fat               -0.871729 -0.140476 -0.143620     -0.077541 -0.033774   \n",
       "Regular                1.000000 -0.082632 -0.084482      0.080754  0.033603   \n",
       "low fat               -0.082632  1.000000 -0.013614     -0.002003  0.016464   \n",
       "reg                   -0.084482 -0.013614  1.000000      0.015616 -0.002658   \n",
       "Baking Goods           0.080754 -0.002003  0.015616      1.000000 -0.049968   \n",
       "Breads                 0.033603  0.016464 -0.002658     -0.049968  1.000000   \n",
       "Breakfast              0.065253 -0.013195  0.004377     -0.032801 -0.019918   \n",
       "Canned                 0.071969  0.005716  0.007949     -0.082354 -0.050010   \n",
       "Dairy                  0.024507  0.011536 -0.012495     -0.084600 -0.051373   \n",
       "Frozen Foods           0.079862 -0.024847  0.024319     -0.095849 -0.058204   \n",
       "Fruits and Vegetables  0.112353 -0.015205  0.023191     -0.117916 -0.071605   \n",
       "Hard Drinks           -0.114921  0.027578 -0.018933     -0.046036 -0.027955   \n",
       "Health and Hygiene    -0.182533  0.013631 -0.030073     -0.073120 -0.044402   \n",
       "Household             -0.247576  0.013484 -0.040789     -0.099176 -0.060225   \n",
       "Meat                   0.118361 -0.021702  0.005401     -0.065715 -0.039906   \n",
       "Others                -0.101850 -0.001632 -0.016780     -0.040800 -0.024776   \n",
       "Seafood                0.015235  0.001897 -0.010262     -0.024951 -0.015152   \n",
       "Snack Foods            0.055759  0.000684  0.018922     -0.116120 -0.070514   \n",
       "Soft Drinks           -0.090075  0.005337 -0.023157     -0.067327 -0.040885   \n",
       "Starchy Foods          0.016761 -0.007452  0.038352     -0.038133 -0.023156   \n",
       "High                  -0.002316  0.018992  0.000665      0.003036 -0.005442   \n",
       "Medium                 0.000693 -0.007125  0.011529     -0.006883  0.002523   \n",
       "Small                  0.000856 -0.005461 -0.012981      0.005364  0.001042   \n",
       "Tier 1                 0.001960 -0.003167  0.004981      0.003392 -0.005140   \n",
       "Tier 2                -0.002123 -0.003509 -0.004797     -0.000701  0.002933   \n",
       "Tier 3                 0.000237  0.006282  0.000026     -0.002446  0.001909   \n",
       "Grocery Store         -0.002307  0.011658 -0.002625      0.003536  0.002305   \n",
       "Supermarket Type1     -0.000734 -0.007121  0.005176      0.001846 -0.006189   \n",
       "Supermarket Type2     -0.002037 -0.010567  0.017030     -0.003632 -0.000734   \n",
       "Supermarket Type3      0.005605  0.008945 -0.022054     -0.002957  0.007693   \n",
       "\n",
       "                       Breakfast        ...              High    Medium  \\\n",
       "Item_MRP                0.001460        ...          0.002438 -0.010578   \n",
       "Item_Outlet_Sales      -0.004656        ...          0.024170  0.075154   \n",
       "LF                     -0.011434        ...         -0.005084 -0.006249   \n",
       "Low Fat                -0.056544        ...         -0.000374  0.000657   \n",
       "Regular                 0.065253        ...         -0.002316  0.000693   \n",
       "low fat                -0.013195        ...          0.018992 -0.007125   \n",
       "reg                     0.004377        ...          0.000665  0.011529   \n",
       "Baking Goods           -0.032801        ...          0.003036 -0.006883   \n",
       "Breads                 -0.019918        ...         -0.005442  0.002523   \n",
       "Breakfast               1.000000        ...          0.003236 -0.000322   \n",
       "Canned                 -0.032828        ...         -0.008461 -0.001082   \n",
       "Dairy                  -0.033723        ...          0.007514 -0.010941   \n",
       "Frozen Foods           -0.038207        ...         -0.002007 -0.006051   \n",
       "Fruits and Vegetables  -0.047004        ...          0.007783  0.006778   \n",
       "Hard Drinks            -0.018351        ...         -0.000964  0.015933   \n",
       "Health and Hygiene     -0.029147        ...          0.006499  0.005587   \n",
       "Household              -0.039533        ...          0.004249 -0.004304   \n",
       "Meat                   -0.026195        ...         -0.009455  0.006137   \n",
       "Others                 -0.016264        ...         -0.006689 -0.008920   \n",
       "Seafood                -0.009946        ...         -0.008703 -0.000195   \n",
       "Snack Foods            -0.046288        ...         -0.006725  0.005147   \n",
       "Soft Drinks            -0.026838        ...          0.000572 -0.001793   \n",
       "Starchy Foods          -0.015201        ...          0.008105  0.001199   \n",
       "High                    0.003236        ...          1.000000 -0.438648   \n",
       "Medium                 -0.000322        ...         -0.438648  1.000000   \n",
       "Small                  -0.001898        ...         -0.218609 -0.781030   \n",
       "Tier 1                  0.005046        ...         -0.218609 -0.282771   \n",
       "Tier 2                 -0.008741        ...         -0.244113  0.079437   \n",
       "Tier 3                  0.003754        ...          0.435419  0.183714   \n",
       "Grocery Store           0.015676        ...         -0.133686 -0.076675   \n",
       "Supermarket Type1      -0.008695        ...          0.254668 -0.313450   \n",
       "Supermarket Type2       0.000077        ...         -0.122481  0.279224   \n",
       "Supermarket Type3      -0.003550        ...         -0.122999  0.280404   \n",
       "\n",
       "                          Small    Tier 1    Tier 2    Tier 3  Grocery Store  \\\n",
       "Item_MRP               0.009793 -0.001229  0.001951 -0.000744      -0.004277   \n",
       "Item_Outlet_Sales     -0.098403 -0.111287  0.058261  0.046376      -0.411727   \n",
       "LF                     0.010318 -0.006275 -0.010932  0.016267       0.009036   \n",
       "Low Fat               -0.000454  0.000079  0.008213 -0.007960      -0.003339   \n",
       "Regular                0.000856  0.001960 -0.002123  0.000237      -0.002307   \n",
       "low fat               -0.005461 -0.003167 -0.003509  0.006282       0.011658   \n",
       "reg                   -0.012981  0.004981 -0.004797  0.000026      -0.002625   \n",
       "Baking Goods           0.005364  0.003392 -0.000701 -0.002446       0.003536   \n",
       "Breads                 0.001042 -0.005140  0.002933  0.001909       0.002305   \n",
       "Breakfast             -0.001898  0.005046 -0.008741  0.003754       0.015676   \n",
       "Canned                 0.007054 -0.004766  0.009366 -0.004612      -0.012574   \n",
       "Dairy                  0.006659  0.013399 -0.008162 -0.004482       0.006933   \n",
       "Frozen Foods           0.007965  0.008834 -0.000590 -0.007556      -0.006763   \n",
       "Fruits and Vegetables -0.012768 -0.006082 -0.002541  0.008032      -0.004556   \n",
       "Hard Drinks           -0.016631 -0.003272  0.003314 -0.000174      -0.007189   \n",
       "Health and Hygiene    -0.010583 -0.008400 -0.004093  0.011654       0.001361   \n",
       "Household              0.001720 -0.004202 -0.001097  0.004917       0.003842   \n",
       "Meat                  -0.000093  0.004708 -0.015945  0.010983       0.019416   \n",
       "Others                 0.014335  0.016209 -0.005783 -0.009350       0.013963   \n",
       "Seafood                0.006259  0.003233  0.003150 -0.005998       0.007621   \n",
       "Snack Foods           -0.000916 -0.001667  0.006390 -0.004603      -0.006565   \n",
       "Soft Drinks            0.001549 -0.005498  0.013034 -0.007461      -0.004031   \n",
       "Starchy Foods         -0.006934 -0.010935  0.008884  0.001523      -0.015658   \n",
       "High                  -0.218609 -0.218609 -0.244113  0.435419      -0.133686   \n",
       "Medium                -0.781030 -0.282771  0.079437  0.183714      -0.076675   \n",
       "Small                  1.000000  0.458964  0.083381 -0.502066       0.176158   \n",
       "Tier 1                 0.458964  1.000000 -0.434653 -0.502066       0.176158   \n",
       "Tier 2                 0.083381 -0.434653  1.000000 -0.560639      -0.265803   \n",
       "Tier 3                -0.502066 -0.502066 -0.560639  1.000000       0.093276   \n",
       "Grocery Store          0.176158  0.176158 -0.265803  0.093276       1.000000   \n",
       "Supermarket Type1      0.163388  0.163388  0.506347 -0.636465      -0.524942   \n",
       "Supermarket Type2     -0.218082 -0.218082 -0.243524  0.434369      -0.133364   \n",
       "Supermarket Type3     -0.219004 -0.219004 -0.244554  0.436205      -0.133928   \n",
       "\n",
       "                       Supermarket Type1  Supermarket Type2  Supermarket Type3  \n",
       "Item_MRP                        0.004885           0.003850          -0.006714  \n",
       "Item_Outlet_Sales               0.108765          -0.038059           0.311192  \n",
       "LF                             -0.019290           0.015137           0.004637  \n",
       "Low Fat                         0.008565          -0.005452          -0.004041  \n",
       "Regular                        -0.000734          -0.002037           0.005605  \n",
       "low fat                        -0.007121          -0.010567           0.008945  \n",
       "reg                             0.005176           0.017030          -0.022054  \n",
       "Baking Goods                    0.001846          -0.003632          -0.002957  \n",
       "Breads                         -0.006189          -0.000734           0.007693  \n",
       "Breakfast                      -0.008695           0.000077          -0.003550  \n",
       "Canned                          0.001236           0.010418           0.001136  \n",
       "Dairy                           0.003396          -0.001746          -0.010817  \n",
       "Frozen Foods                    0.009750          -0.001507          -0.006128  \n",
       "Fruits and Vegetables          -0.000811           0.000919           0.005173  \n",
       "Hard Drinks                     0.007837          -0.003132          -0.001143  \n",
       "Health and Hygiene             -0.005422           0.002174           0.004634  \n",
       "Household                       0.001234          -0.004979          -0.001009  \n",
       "Meat                           -0.023912          -0.000476           0.016172  \n",
       "Others                         -0.006344           0.004320          -0.009533  \n",
       "Seafood                        -0.005367           0.000138          -0.000091  \n",
       "Snack Foods                    -0.000154           0.001453           0.005782  \n",
       "Soft Drinks                     0.009777          -0.004153          -0.006443  \n",
       "Starchy Foods                   0.013516           0.002553          -0.006427  \n",
       "High                            0.254668          -0.122481          -0.122999  \n",
       "Medium                         -0.313450           0.279224           0.280404  \n",
       "Small                           0.163388          -0.218082          -0.219004  \n",
       "Tier 1                          0.163388          -0.218082          -0.219004  \n",
       "Tier 2                          0.506347          -0.243524          -0.244554  \n",
       "Tier 3                         -0.636465           0.434369           0.436205  \n",
       "Grocery Store                  -0.524942          -0.133364          -0.133928  \n",
       "Supermarket Type1               1.000000          -0.480943          -0.482977  \n",
       "Supermarket Type2              -0.480943           1.000000          -0.122702  \n",
       "Supermarket Type3              -0.482977          -0.122702           1.000000  \n",
       "\n",
       "[33 rows x 33 columns]"
      ]
     },
     "execution_count": 125,
     "metadata": {},
     "output_type": "execute_result"
    }
   ],
   "source": [
    "train_df.corr()"
   ]
  },
  {
   "cell_type": "code",
   "execution_count": 126,
   "metadata": {},
   "outputs": [],
   "source": [
    "#Thus keeping following variables based on corr value : item_mrp, regular, baking goods, fruits & veg, health & hygiene, small , tier1, grocery store, supermarket type3"
   ]
  },
  {
   "cell_type": "markdown",
   "metadata": {},
   "source": [
    "# Assumption check!"
   ]
  },
  {
   "cell_type": "code",
   "execution_count": 133,
   "metadata": {},
   "outputs": [],
   "source": [
    "df = train_df[['Item_MRP','Regular','Baking Goods','Fruits and Vegetables','Snack Foods','Health and Hygiene','Small','Tier 1','Grocery Store','Supermarket Type3','Item_Outlet_Sales']]"
   ]
  },
  {
   "cell_type": "code",
   "execution_count": 134,
   "metadata": {},
   "outputs": [
    {
     "data": {
      "text/html": [
       "<div>\n",
       "<style scoped>\n",
       "    .dataframe tbody tr th:only-of-type {\n",
       "        vertical-align: middle;\n",
       "    }\n",
       "\n",
       "    .dataframe tbody tr th {\n",
       "        vertical-align: top;\n",
       "    }\n",
       "\n",
       "    .dataframe thead th {\n",
       "        text-align: right;\n",
       "    }\n",
       "</style>\n",
       "<table border=\"1\" class=\"dataframe\">\n",
       "  <thead>\n",
       "    <tr style=\"text-align: right;\">\n",
       "      <th></th>\n",
       "      <th>Item_MRP</th>\n",
       "      <th>Regular</th>\n",
       "      <th>Baking Goods</th>\n",
       "      <th>Fruits and Vegetables</th>\n",
       "      <th>Snack Foods</th>\n",
       "      <th>Health and Hygiene</th>\n",
       "      <th>Small</th>\n",
       "      <th>Tier 1</th>\n",
       "      <th>Grocery Store</th>\n",
       "      <th>Supermarket Type3</th>\n",
       "      <th>Item_Outlet_Sales</th>\n",
       "    </tr>\n",
       "  </thead>\n",
       "  <tbody>\n",
       "    <tr>\n",
       "      <th>0</th>\n",
       "      <td>249.8092</td>\n",
       "      <td>0</td>\n",
       "      <td>0</td>\n",
       "      <td>0</td>\n",
       "      <td>0</td>\n",
       "      <td>0</td>\n",
       "      <td>0</td>\n",
       "      <td>1</td>\n",
       "      <td>0</td>\n",
       "      <td>0</td>\n",
       "      <td>3735.1380</td>\n",
       "    </tr>\n",
       "    <tr>\n",
       "      <th>1</th>\n",
       "      <td>48.2692</td>\n",
       "      <td>1</td>\n",
       "      <td>0</td>\n",
       "      <td>0</td>\n",
       "      <td>0</td>\n",
       "      <td>0</td>\n",
       "      <td>0</td>\n",
       "      <td>0</td>\n",
       "      <td>0</td>\n",
       "      <td>0</td>\n",
       "      <td>443.4228</td>\n",
       "    </tr>\n",
       "    <tr>\n",
       "      <th>2</th>\n",
       "      <td>141.6180</td>\n",
       "      <td>0</td>\n",
       "      <td>0</td>\n",
       "      <td>0</td>\n",
       "      <td>0</td>\n",
       "      <td>0</td>\n",
       "      <td>0</td>\n",
       "      <td>1</td>\n",
       "      <td>0</td>\n",
       "      <td>0</td>\n",
       "      <td>2097.2700</td>\n",
       "    </tr>\n",
       "    <tr>\n",
       "      <th>3</th>\n",
       "      <td>182.0950</td>\n",
       "      <td>1</td>\n",
       "      <td>0</td>\n",
       "      <td>1</td>\n",
       "      <td>0</td>\n",
       "      <td>0</td>\n",
       "      <td>0</td>\n",
       "      <td>0</td>\n",
       "      <td>1</td>\n",
       "      <td>0</td>\n",
       "      <td>732.3800</td>\n",
       "    </tr>\n",
       "    <tr>\n",
       "      <th>4</th>\n",
       "      <td>53.8614</td>\n",
       "      <td>0</td>\n",
       "      <td>0</td>\n",
       "      <td>0</td>\n",
       "      <td>0</td>\n",
       "      <td>0</td>\n",
       "      <td>0</td>\n",
       "      <td>0</td>\n",
       "      <td>0</td>\n",
       "      <td>0</td>\n",
       "      <td>994.7052</td>\n",
       "    </tr>\n",
       "  </tbody>\n",
       "</table>\n",
       "</div>"
      ],
      "text/plain": [
       "   Item_MRP  Regular  Baking Goods  Fruits and Vegetables  Snack Foods  \\\n",
       "0  249.8092        0             0                      0            0   \n",
       "1   48.2692        1             0                      0            0   \n",
       "2  141.6180        0             0                      0            0   \n",
       "3  182.0950        1             0                      1            0   \n",
       "4   53.8614        0             0                      0            0   \n",
       "\n",
       "   Health and Hygiene  Small  Tier 1  Grocery Store  Supermarket Type3  \\\n",
       "0                   0      0       1              0                  0   \n",
       "1                   0      0       0              0                  0   \n",
       "2                   0      0       1              0                  0   \n",
       "3                   0      0       0              1                  0   \n",
       "4                   0      0       0              0                  0   \n",
       "\n",
       "   Item_Outlet_Sales  \n",
       "0          3735.1380  \n",
       "1           443.4228  \n",
       "2          2097.2700  \n",
       "3           732.3800  \n",
       "4           994.7052  "
      ]
     },
     "execution_count": 134,
     "metadata": {},
     "output_type": "execute_result"
    }
   ],
   "source": [
    "df.head()"
   ]
  },
  {
   "cell_type": "code",
   "execution_count": 135,
   "metadata": {},
   "outputs": [],
   "source": [
    "#keeping only above variables for checking assumptions of various models because only above variables will be\n",
    "#taken forward for modeling purpose.!"
   ]
  },
  {
   "cell_type": "code",
   "execution_count": 136,
   "metadata": {},
   "outputs": [],
   "source": [
    "#defining x for model\n",
    "\n",
    "df_x = df.drop(columns = ['Item_Outlet_Sales'])"
   ]
  },
  {
   "cell_type": "code",
   "execution_count": 137,
   "metadata": {},
   "outputs": [],
   "source": [
    "#defining y for model\n",
    "\n",
    "df_y = df['Item_Outlet_Sales']"
   ]
  },
  {
   "cell_type": "code",
   "execution_count": 138,
   "metadata": {},
   "outputs": [],
   "source": [
    "import statsmodels.formula.api as smf"
   ]
  },
  {
   "cell_type": "code",
   "execution_count": 139,
   "metadata": {},
   "outputs": [],
   "source": [
    "#fitting model and inspecting results!!"
   ]
  },
  {
   "cell_type": "code",
   "execution_count": 140,
   "metadata": {},
   "outputs": [],
   "source": [
    "results = smf.ols('df_y ~ df_x', data=df).fit()"
   ]
  },
  {
   "cell_type": "code",
   "execution_count": 141,
   "metadata": {},
   "outputs": [
    {
     "name": "stdout",
     "output_type": "stream",
     "text": [
      "                            OLS Regression Results                            \n",
      "==============================================================================\n",
      "Dep. Variable:                   df_y   R-squared:                       0.559\n",
      "Model:                            OLS   Adj. R-squared:                  0.559\n",
      "Method:                 Least Squares   F-statistic:                     1081.\n",
      "Date:                Sat, 10 Aug 2019   Prob (F-statistic):               0.00\n",
      "Time:                        01:14:07   Log-Likelihood:                -72031.\n",
      "No. Observations:                8523   AIC:                         1.441e+05\n",
      "Df Residuals:                    8512   BIC:                         1.442e+05\n",
      "Df Model:                          10                                         \n",
      "Covariance Type:            nonrobust                                         \n",
      "==============================================================================\n",
      "                 coef    std err          t      P>|t|      [0.025      0.975]\n",
      "------------------------------------------------------------------------------\n",
      "Intercept     20.7156     35.443      0.584      0.559     -48.761      90.192\n",
      "df_x[0]       15.5491      0.198     78.566      0.000      15.161      15.937\n",
      "df_x[1]       52.6638     26.655      1.976      0.048       0.414     104.913\n",
      "df_x[2]       11.5647     47.664      0.243      0.808     -81.869     104.998\n",
      "df_x[3]       41.0722     36.364      1.129      0.259     -30.210     112.355\n",
      "df_x[4]        2.5431     36.590      0.070      0.945     -69.182      74.268\n",
      "df_x[5]        9.2572     52.957      0.175      0.861     -94.552     113.066\n",
      "df_x[6]       71.4279     31.214      2.288      0.022      10.241     132.614\n",
      "df_x[7]       24.3604     31.210      0.781      0.435     -36.818      85.539\n",
      "df_x[8]    -1934.3295     37.814    -51.154      0.000   -2008.454   -1860.205\n",
      "df_x[9]     1473.3137     40.796     36.114      0.000    1393.343    1553.284\n",
      "==============================================================================\n",
      "Omnibus:                      964.365   Durbin-Watson:                   2.006\n",
      "Prob(Omnibus):                  0.000   Jarque-Bera (JB):             2301.258\n",
      "Skew:                           0.669   Prob(JB):                         0.00\n",
      "Kurtosis:                       5.165   Cond. No.                         712.\n",
      "==============================================================================\n",
      "\n",
      "Warnings:\n",
      "[1] Standard Errors assume that the covariance matrix of the errors is correctly specified.\n"
     ]
    }
   ],
   "source": [
    "print(results.summary())"
   ]
  },
  {
   "cell_type": "markdown",
   "metadata": {},
   "source": [
    "Test for Heteroskedasticity  : Bresuschpagan"
   ]
  },
  {
   "cell_type": "code",
   "execution_count": 143,
   "metadata": {},
   "outputs": [],
   "source": [
    "import statsmodels.stats.api as sms"
   ]
  },
  {
   "cell_type": "code",
   "execution_count": 144,
   "metadata": {},
   "outputs": [],
   "source": [
    "t = sms.het_breuschpagan(results.resid, results.model.exog)"
   ]
  },
  {
   "cell_type": "code",
   "execution_count": 145,
   "metadata": {},
   "outputs": [],
   "source": [
    "name = ['Lagrange multiplier statistic', 'p-value',\n",
    "        'f-value', 'f p-value']"
   ]
  },
  {
   "cell_type": "code",
   "execution_count": 146,
   "metadata": {},
   "outputs": [],
   "source": [
    "bp_test = pd.DataFrame({'name':name,'test':t})"
   ]
  },
  {
   "cell_type": "code",
   "execution_count": 147,
   "metadata": {},
   "outputs": [
    {
     "data": {
      "text/html": [
       "<div>\n",
       "<style scoped>\n",
       "    .dataframe tbody tr th:only-of-type {\n",
       "        vertical-align: middle;\n",
       "    }\n",
       "\n",
       "    .dataframe tbody tr th {\n",
       "        vertical-align: top;\n",
       "    }\n",
       "\n",
       "    .dataframe thead th {\n",
       "        text-align: right;\n",
       "    }\n",
       "</style>\n",
       "<table border=\"1\" class=\"dataframe\">\n",
       "  <thead>\n",
       "    <tr style=\"text-align: right;\">\n",
       "      <th></th>\n",
       "      <th>name</th>\n",
       "      <th>test</th>\n",
       "    </tr>\n",
       "  </thead>\n",
       "  <tbody>\n",
       "    <tr>\n",
       "      <th>0</th>\n",
       "      <td>Lagrange multiplier statistic</td>\n",
       "      <td>1.200390e+03</td>\n",
       "    </tr>\n",
       "    <tr>\n",
       "      <th>1</th>\n",
       "      <td>p-value</td>\n",
       "      <td>1.187183e-251</td>\n",
       "    </tr>\n",
       "    <tr>\n",
       "      <th>2</th>\n",
       "      <td>f-value</td>\n",
       "      <td>1.395366e+02</td>\n",
       "    </tr>\n",
       "    <tr>\n",
       "      <th>3</th>\n",
       "      <td>f p-value</td>\n",
       "      <td>1.414909e-271</td>\n",
       "    </tr>\n",
       "  </tbody>\n",
       "</table>\n",
       "</div>"
      ],
      "text/plain": [
       "                            name           test\n",
       "0  Lagrange multiplier statistic   1.200390e+03\n",
       "1                        p-value  1.187183e-251\n",
       "2                        f-value   1.395366e+02\n",
       "3                      f p-value  1.414909e-271"
      ]
     },
     "execution_count": 147,
     "metadata": {},
     "output_type": "execute_result"
    }
   ],
   "source": [
    "bp_test"
   ]
  },
  {
   "cell_type": "code",
   "execution_count": 148,
   "metadata": {},
   "outputs": [],
   "source": [
    "#Since p value is less than 0.05 we reject null hypothesis i.e. it is not homoskedastic & rather have HETEROSKEDASTICITY!\n",
    "#which implies cannot apply ridge regression & linear regression!"
   ]
  },
  {
   "cell_type": "markdown",
   "metadata": {},
   "source": [
    "\n",
    "Test for Normality : Jarque-Bera test"
   ]
  },
  {
   "cell_type": "code",
   "execution_count": 149,
   "metadata": {},
   "outputs": [],
   "source": [
    "name1 = ['Jarque-Bera', 'Chi^2 two-tail prob.', 'Skew', 'Kurtosis']\n",
    "test1 = sms.jarque_bera(results.resid)"
   ]
  },
  {
   "cell_type": "code",
   "execution_count": 150,
   "metadata": {},
   "outputs": [],
   "source": [
    "jb = pd.DataFrame({'name':name1,'test':test1})"
   ]
  },
  {
   "cell_type": "code",
   "execution_count": 151,
   "metadata": {},
   "outputs": [
    {
     "data": {
      "text/html": [
       "<div>\n",
       "<style scoped>\n",
       "    .dataframe tbody tr th:only-of-type {\n",
       "        vertical-align: middle;\n",
       "    }\n",
       "\n",
       "    .dataframe tbody tr th {\n",
       "        vertical-align: top;\n",
       "    }\n",
       "\n",
       "    .dataframe thead th {\n",
       "        text-align: right;\n",
       "    }\n",
       "</style>\n",
       "<table border=\"1\" class=\"dataframe\">\n",
       "  <thead>\n",
       "    <tr style=\"text-align: right;\">\n",
       "      <th></th>\n",
       "      <th>name</th>\n",
       "      <th>test</th>\n",
       "    </tr>\n",
       "  </thead>\n",
       "  <tbody>\n",
       "    <tr>\n",
       "      <th>0</th>\n",
       "      <td>Jarque-Bera</td>\n",
       "      <td>2301.258310</td>\n",
       "    </tr>\n",
       "    <tr>\n",
       "      <th>1</th>\n",
       "      <td>Chi^2 two-tail prob.</td>\n",
       "      <td>0.000000</td>\n",
       "    </tr>\n",
       "    <tr>\n",
       "      <th>2</th>\n",
       "      <td>Skew</td>\n",
       "      <td>0.669188</td>\n",
       "    </tr>\n",
       "    <tr>\n",
       "      <th>3</th>\n",
       "      <td>Kurtosis</td>\n",
       "      <td>5.165383</td>\n",
       "    </tr>\n",
       "  </tbody>\n",
       "</table>\n",
       "</div>"
      ],
      "text/plain": [
       "                   name         test\n",
       "0           Jarque-Bera  2301.258310\n",
       "1  Chi^2 two-tail prob.     0.000000\n",
       "2                  Skew     0.669188\n",
       "3              Kurtosis     5.165383"
      ]
     },
     "execution_count": 151,
     "metadata": {},
     "output_type": "execute_result"
    }
   ],
   "source": [
    "jb"
   ]
  },
  {
   "cell_type": "code",
   "execution_count": 156,
   "metadata": {},
   "outputs": [],
   "source": [
    "#since p -value is less than 0.05 (=0.00),it rejects null hypothesis and hence it's not normal!\n",
    "\n",
    "#which implies we cannot apply linear regression !\n",
    "\n",
    "#we are not applying box-cox transformation as turning it normal would also not lead to applying linear regression!"
   ]
  },
  {
   "cell_type": "markdown",
   "metadata": {},
   "source": [
    "# CV Run!"
   ]
  },
  {
   "cell_type": "code",
   "execution_count": 190,
   "metadata": {},
   "outputs": [],
   "source": [
    "from sklearn.cross_validation import cross_val_score"
   ]
  },
  {
   "cell_type": "code",
   "execution_count": 191,
   "metadata": {},
   "outputs": [],
   "source": [
    "#running cv on lasso regression"
   ]
  },
  {
   "cell_type": "code",
   "execution_count": 192,
   "metadata": {},
   "outputs": [],
   "source": [
    "from sklearn.linear_model import Lasso"
   ]
  },
  {
   "cell_type": "code",
   "execution_count": 193,
   "metadata": {},
   "outputs": [
    {
     "data": {
      "text/plain": [
       "0.5568188970381629"
      ]
     },
     "execution_count": 193,
     "metadata": {},
     "output_type": "execute_result"
    }
   ],
   "source": [
    "score_lasso = cross_val_score(Lasso(),df_x,df_y,cv=10)\n",
    "np.mean(score_lasso)"
   ]
  },
  {
   "cell_type": "code",
   "execution_count": 194,
   "metadata": {},
   "outputs": [],
   "source": [
    "#running cv on decission tree regressor"
   ]
  },
  {
   "cell_type": "code",
   "execution_count": 195,
   "metadata": {},
   "outputs": [],
   "source": [
    "from sklearn.tree import DecisionTreeRegressor"
   ]
  },
  {
   "cell_type": "code",
   "execution_count": 196,
   "metadata": {},
   "outputs": [
    {
     "data": {
      "text/plain": [
       "0.17470913401551008"
      ]
     },
     "execution_count": 196,
     "metadata": {},
     "output_type": "execute_result"
    }
   ],
   "source": [
    "score_dtr = cross_val_score(DecisionTreeRegressor(),df_x,df_y,cv=10)\n",
    "np.mean(score_dtr)"
   ]
  },
  {
   "cell_type": "code",
   "execution_count": 197,
   "metadata": {},
   "outputs": [],
   "source": [
    "#running cv on random forest regressor"
   ]
  },
  {
   "cell_type": "code",
   "execution_count": 198,
   "metadata": {},
   "outputs": [],
   "source": [
    "from sklearn.ensemble import RandomForestRegressor"
   ]
  },
  {
   "cell_type": "code",
   "execution_count": 199,
   "metadata": {},
   "outputs": [
    {
     "data": {
      "text/plain": [
       "0.46163587968629705"
      ]
     },
     "execution_count": 199,
     "metadata": {},
     "output_type": "execute_result"
    }
   ],
   "source": [
    "score_rfr = cross_val_score(RandomForestRegressor(),df_x,df_y,cv=10)\n",
    "np.mean(score_rfr)"
   ]
  },
  {
   "cell_type": "code",
   "execution_count": 200,
   "metadata": {},
   "outputs": [],
   "source": [
    "#running cv on knn regressor"
   ]
  },
  {
   "cell_type": "code",
   "execution_count": 201,
   "metadata": {},
   "outputs": [],
   "source": [
    "from sklearn.neighbors import KNeighborsRegressor"
   ]
  },
  {
   "cell_type": "code",
   "execution_count": 244,
   "metadata": {},
   "outputs": [
    {
     "data": {
      "text/plain": [
       "0.4277531946426256"
      ]
     },
     "execution_count": 244,
     "metadata": {},
     "output_type": "execute_result"
    }
   ],
   "source": [
    "score_knr = cross_val_score(KNeighborsRegressor(),df_x,df_y,cv=10)\n",
    "np.mean(score_knr)"
   ]
  },
  {
   "cell_type": "code",
   "execution_count": 242,
   "metadata": {},
   "outputs": [],
   "source": [
    "#running elastic net regression"
   ]
  },
  {
   "cell_type": "code",
   "execution_count": 243,
   "metadata": {},
   "outputs": [],
   "source": [
    "from sklearn.linear_model import ElasticNet"
   ]
  },
  {
   "cell_type": "code",
   "execution_count": 247,
   "metadata": {},
   "outputs": [
    {
     "data": {
      "text/plain": [
       "0.40710970193660145"
      ]
     },
     "execution_count": 247,
     "metadata": {},
     "output_type": "execute_result"
    }
   ],
   "source": [
    "score_enr = cross_val_score(ElasticNet(),df_x,df_y,cv=10)\n",
    "np.mean(score_enr)"
   ]
  },
  {
   "cell_type": "markdown",
   "metadata": {},
   "source": [
    "Thus, going ahead with lasso regression model.!"
   ]
  },
  {
   "cell_type": "markdown",
   "metadata": {},
   "source": [
    "# Feature Selection !"
   ]
  },
  {
   "cell_type": "code",
   "execution_count": 208,
   "metadata": {},
   "outputs": [],
   "source": [
    "from mlxtend.feature_selection import SequentialFeatureSelector as sfs"
   ]
  },
  {
   "cell_type": "code",
   "execution_count": 210,
   "metadata": {},
   "outputs": [],
   "source": [
    "from sklearn.model_selection import train_test_split"
   ]
  },
  {
   "cell_type": "code",
   "execution_count": 211,
   "metadata": {},
   "outputs": [],
   "source": [
    "x_train, x_test, y_train, y_test = train_test_split(df_x, df_y, test_size=0.3, random_state=123)"
   ]
  },
  {
   "cell_type": "code",
   "execution_count": 212,
   "metadata": {},
   "outputs": [],
   "source": [
    "y1_train = y_train.ravel()"
   ]
  },
  {
   "cell_type": "code",
   "execution_count": 213,
   "metadata": {},
   "outputs": [],
   "source": [
    "y1_test = y_test.ravel()"
   ]
  },
  {
   "cell_type": "code",
   "execution_count": 214,
   "metadata": {},
   "outputs": [],
   "source": [
    "#build lasso regressor to use in feature selection"
   ]
  },
  {
   "cell_type": "code",
   "execution_count": 215,
   "metadata": {},
   "outputs": [],
   "source": [
    "clf = Lasso()"
   ]
  },
  {
   "cell_type": "code",
   "execution_count": 216,
   "metadata": {},
   "outputs": [],
   "source": [
    "#building step forward feature selection"
   ]
  },
  {
   "cell_type": "code",
   "execution_count": 217,
   "metadata": {},
   "outputs": [],
   "source": [
    "sfs1 = sfs(clf,k_features=5,forward=True,floating=False,verbose=2,cv=5)"
   ]
  },
  {
   "cell_type": "code",
   "execution_count": 218,
   "metadata": {},
   "outputs": [],
   "source": [
    "#perfrom sffs"
   ]
  },
  {
   "cell_type": "code",
   "execution_count": 219,
   "metadata": {},
   "outputs": [
    {
     "name": "stderr",
     "output_type": "stream",
     "text": [
      "[Parallel(n_jobs=1)]: Done   1 out of   1 | elapsed:    0.0s remaining:    0.0s\n",
      "[Parallel(n_jobs=1)]: Done  10 out of  10 | elapsed:    0.0s finished\n",
      "\n",
      "[2019-08-10 01:59:43] Features: 1/5 -- score: 0.32406854642071686[Parallel(n_jobs=1)]: Done   1 out of   1 | elapsed:    0.0s remaining:    0.0s\n",
      "[Parallel(n_jobs=1)]: Done   9 out of   9 | elapsed:    0.0s finished\n",
      "\n",
      "[2019-08-10 01:59:43] Features: 2/5 -- score: 0.4873366011984082[Parallel(n_jobs=1)]: Done   1 out of   1 | elapsed:    0.0s remaining:    0.0s\n",
      "[Parallel(n_jobs=1)]: Done   8 out of   8 | elapsed:    0.0s finished\n",
      "\n",
      "[2019-08-10 01:59:44] Features: 3/5 -- score: 0.5521700927088445[Parallel(n_jobs=1)]: Done   1 out of   1 | elapsed:    0.0s remaining:    0.0s\n",
      "[Parallel(n_jobs=1)]: Done   7 out of   7 | elapsed:    0.0s finished\n",
      "\n",
      "[2019-08-10 01:59:44] Features: 4/5 -- score: 0.5525501390695573[Parallel(n_jobs=1)]: Done   1 out of   1 | elapsed:    0.0s remaining:    0.0s\n",
      "[Parallel(n_jobs=1)]: Done   6 out of   6 | elapsed:    0.0s finished\n",
      "\n",
      "[2019-08-10 01:59:44] Features: 5/5 -- score: 0.5527921612691913"
     ]
    }
   ],
   "source": [
    "sfs1 = sfs1.fit(x_train,y_train)"
   ]
  },
  {
   "cell_type": "code",
   "execution_count": 220,
   "metadata": {},
   "outputs": [
    {
     "name": "stdout",
     "output_type": "stream",
     "text": [
      "[0, 1, 6, 8, 9]\n"
     ]
    }
   ],
   "source": [
    "# Which features?\n",
    "feat_cols = list(sfs1.k_feature_idx_)\n",
    "print(feat_cols)"
   ]
  },
  {
   "cell_type": "code",
   "execution_count": 221,
   "metadata": {},
   "outputs": [
    {
     "data": {
      "text/html": [
       "<div>\n",
       "<style scoped>\n",
       "    .dataframe tbody tr th:only-of-type {\n",
       "        vertical-align: middle;\n",
       "    }\n",
       "\n",
       "    .dataframe tbody tr th {\n",
       "        vertical-align: top;\n",
       "    }\n",
       "\n",
       "    .dataframe thead th {\n",
       "        text-align: right;\n",
       "    }\n",
       "</style>\n",
       "<table border=\"1\" class=\"dataframe\">\n",
       "  <thead>\n",
       "    <tr style=\"text-align: right;\">\n",
       "      <th></th>\n",
       "      <th>Item_MRP</th>\n",
       "      <th>Regular</th>\n",
       "      <th>Baking Goods</th>\n",
       "      <th>Fruits and Vegetables</th>\n",
       "      <th>Snack Foods</th>\n",
       "      <th>Health and Hygiene</th>\n",
       "      <th>Small</th>\n",
       "      <th>Tier 1</th>\n",
       "      <th>Grocery Store</th>\n",
       "      <th>Supermarket Type3</th>\n",
       "    </tr>\n",
       "  </thead>\n",
       "  <tbody>\n",
       "    <tr>\n",
       "      <th>0</th>\n",
       "      <td>249.8092</td>\n",
       "      <td>0</td>\n",
       "      <td>0</td>\n",
       "      <td>0</td>\n",
       "      <td>0</td>\n",
       "      <td>0</td>\n",
       "      <td>0</td>\n",
       "      <td>1</td>\n",
       "      <td>0</td>\n",
       "      <td>0</td>\n",
       "    </tr>\n",
       "    <tr>\n",
       "      <th>1</th>\n",
       "      <td>48.2692</td>\n",
       "      <td>1</td>\n",
       "      <td>0</td>\n",
       "      <td>0</td>\n",
       "      <td>0</td>\n",
       "      <td>0</td>\n",
       "      <td>0</td>\n",
       "      <td>0</td>\n",
       "      <td>0</td>\n",
       "      <td>0</td>\n",
       "    </tr>\n",
       "    <tr>\n",
       "      <th>2</th>\n",
       "      <td>141.6180</td>\n",
       "      <td>0</td>\n",
       "      <td>0</td>\n",
       "      <td>0</td>\n",
       "      <td>0</td>\n",
       "      <td>0</td>\n",
       "      <td>0</td>\n",
       "      <td>1</td>\n",
       "      <td>0</td>\n",
       "      <td>0</td>\n",
       "    </tr>\n",
       "    <tr>\n",
       "      <th>3</th>\n",
       "      <td>182.0950</td>\n",
       "      <td>1</td>\n",
       "      <td>0</td>\n",
       "      <td>1</td>\n",
       "      <td>0</td>\n",
       "      <td>0</td>\n",
       "      <td>0</td>\n",
       "      <td>0</td>\n",
       "      <td>1</td>\n",
       "      <td>0</td>\n",
       "    </tr>\n",
       "    <tr>\n",
       "      <th>4</th>\n",
       "      <td>53.8614</td>\n",
       "      <td>0</td>\n",
       "      <td>0</td>\n",
       "      <td>0</td>\n",
       "      <td>0</td>\n",
       "      <td>0</td>\n",
       "      <td>0</td>\n",
       "      <td>0</td>\n",
       "      <td>0</td>\n",
       "      <td>0</td>\n",
       "    </tr>\n",
       "  </tbody>\n",
       "</table>\n",
       "</div>"
      ],
      "text/plain": [
       "   Item_MRP  Regular  Baking Goods  Fruits and Vegetables  Snack Foods  \\\n",
       "0  249.8092        0             0                      0            0   \n",
       "1   48.2692        1             0                      0            0   \n",
       "2  141.6180        0             0                      0            0   \n",
       "3  182.0950        1             0                      1            0   \n",
       "4   53.8614        0             0                      0            0   \n",
       "\n",
       "   Health and Hygiene  Small  Tier 1  Grocery Store  Supermarket Type3  \n",
       "0                   0      0       1              0                  0  \n",
       "1                   0      0       0              0                  0  \n",
       "2                   0      0       1              0                  0  \n",
       "3                   0      0       0              1                  0  \n",
       "4                   0      0       0              0                  0  "
      ]
     },
     "execution_count": 221,
     "metadata": {},
     "output_type": "execute_result"
    }
   ],
   "source": [
    "df_x.head()"
   ]
  },
  {
   "cell_type": "markdown",
   "metadata": {},
   "source": [
    "# Redifining x and y for building model!"
   ]
  },
  {
   "cell_type": "code",
   "execution_count": 223,
   "metadata": {},
   "outputs": [],
   "source": [
    "x = df[['Item_MRP','Regular','Small','Grocery Store','Supermarket Type3']]"
   ]
  },
  {
   "cell_type": "code",
   "execution_count": 224,
   "metadata": {},
   "outputs": [],
   "source": [
    "y = df['Item_Outlet_Sales']"
   ]
  },
  {
   "cell_type": "code",
   "execution_count": 226,
   "metadata": {},
   "outputs": [],
   "source": [
    "X_train, X_test, Y_train, Y_test = train_test_split(x, y, test_size=0.3, random_state=123)"
   ]
  },
  {
   "cell_type": "markdown",
   "metadata": {},
   "source": [
    "# Building basic Lasso model!"
   ]
  },
  {
   "cell_type": "code",
   "execution_count": 227,
   "metadata": {},
   "outputs": [],
   "source": [
    "m1 = Lasso()"
   ]
  },
  {
   "cell_type": "code",
   "execution_count": 228,
   "metadata": {},
   "outputs": [],
   "source": [
    "m11 = m1.fit(X_train,Y_train)"
   ]
  },
  {
   "cell_type": "code",
   "execution_count": 229,
   "metadata": {},
   "outputs": [],
   "source": [
    "m11_pred = m11.predict(X_test)"
   ]
  },
  {
   "cell_type": "code",
   "execution_count": 231,
   "metadata": {},
   "outputs": [
    {
     "name": "stdout",
     "output_type": "stream",
     "text": [
      "1139.8727625857891\n"
     ]
    }
   ],
   "source": [
    "from sklearn.metrics import mean_squared_error\n",
    "from math import sqrt\n",
    "rmse1 = sqrt(mean_squared_error(Y_test, m11_pred))\n",
    "print(rmse1)"
   ]
  },
  {
   "cell_type": "code",
   "execution_count": 262,
   "metadata": {},
   "outputs": [],
   "source": [
    "from sklearn.metrics import mean_absolute_error"
   ]
  },
  {
   "cell_type": "code",
   "execution_count": 263,
   "metadata": {},
   "outputs": [
    {
     "data": {
      "text/plain": [
       "846.1288812511109"
      ]
     },
     "execution_count": 263,
     "metadata": {},
     "output_type": "execute_result"
    }
   ],
   "source": [
    "mean_absolute_error(Y_test,m11_pred)"
   ]
  },
  {
   "cell_type": "code",
   "execution_count": 298,
   "metadata": {},
   "outputs": [],
   "source": [
    "from sklearn.metrics import r2_score"
   ]
  },
  {
   "cell_type": "code",
   "execution_count": 299,
   "metadata": {},
   "outputs": [
    {
     "data": {
      "text/plain": [
       "0.5698461844666023"
      ]
     },
     "execution_count": 299,
     "metadata": {},
     "output_type": "execute_result"
    }
   ],
   "source": [
    "r2_score(Y_test,m11_pred)"
   ]
  },
  {
   "cell_type": "markdown",
   "metadata": {},
   "source": [
    "# Tunning model"
   ]
  },
  {
   "cell_type": "code",
   "execution_count": 232,
   "metadata": {},
   "outputs": [],
   "source": [
    "ls_param = {\n",
    "    'alpha' : [1,2,3],\n",
    "    'fit_intercept' : [True,False],\n",
    "    'normalize':[True,False],\n",
    "    'precompute' : [True,False],\n",
    "    'copy_X' : [True,False],\n",
    "    'random_state' : [100,130,150]\n",
    "}"
   ]
  },
  {
   "cell_type": "code",
   "execution_count": 234,
   "metadata": {},
   "outputs": [],
   "source": [
    "from sklearn.model_selection import GridSearchCV"
   ]
  },
  {
   "cell_type": "code",
   "execution_count": 235,
   "metadata": {},
   "outputs": [],
   "source": [
    "ls_search = GridSearchCV(estimator=Lasso(),param_grid=ls_param,cv=5)"
   ]
  },
  {
   "cell_type": "code",
   "execution_count": 236,
   "metadata": {},
   "outputs": [
    {
     "data": {
      "text/plain": [
       "GridSearchCV(cv=5, error_score='raise',\n",
       "       estimator=Lasso(alpha=1.0, copy_X=True, fit_intercept=True, max_iter=1000,\n",
       "   normalize=False, positive=False, precompute=False, random_state=None,\n",
       "   selection='cyclic', tol=0.0001, warm_start=False),\n",
       "       fit_params=None, iid=True, n_jobs=1,\n",
       "       param_grid={'alpha': [1, 2, 3], 'fit_intercept': [True, False], 'normalize': [True, False], 'precompute': [True, False], 'copy_X': [True, False], 'random_state': [100, 130, 150]},\n",
       "       pre_dispatch='2*n_jobs', refit=True, return_train_score='warn',\n",
       "       scoring=None, verbose=0)"
      ]
     },
     "execution_count": 236,
     "metadata": {},
     "output_type": "execute_result"
    }
   ],
   "source": [
    "ls_search.fit(X_train,y_train)"
   ]
  },
  {
   "cell_type": "code",
   "execution_count": 237,
   "metadata": {},
   "outputs": [
    {
     "data": {
      "text/plain": [
       "{'alpha': 1,\n",
       " 'copy_X': True,\n",
       " 'fit_intercept': True,\n",
       " 'normalize': False,\n",
       " 'precompute': False,\n",
       " 'random_state': 100}"
      ]
     },
     "execution_count": 237,
     "metadata": {},
     "output_type": "execute_result"
    }
   ],
   "source": [
    "ls_search.best_params_"
   ]
  },
  {
   "cell_type": "code",
   "execution_count": 238,
   "metadata": {},
   "outputs": [],
   "source": [
    "m2 = Lasso(alpha=1,copy_X=True,fit_intercept=True,normalize=False,precompute=True,random_state=100)"
   ]
  },
  {
   "cell_type": "code",
   "execution_count": 239,
   "metadata": {},
   "outputs": [],
   "source": [
    "m22 = m2.fit(X_train,Y_train)"
   ]
  },
  {
   "cell_type": "code",
   "execution_count": 240,
   "metadata": {},
   "outputs": [],
   "source": [
    "m22_pred = m22.predict(X_test)"
   ]
  },
  {
   "cell_type": "code",
   "execution_count": 241,
   "metadata": {},
   "outputs": [
    {
     "name": "stdout",
     "output_type": "stream",
     "text": [
      "1139.8727625857891\n"
     ]
    }
   ],
   "source": [
    "rmse2 = sqrt(mean_squared_error(Y_test,m22_pred))\n",
    "print(rmse1)"
   ]
  },
  {
   "cell_type": "code",
   "execution_count": 264,
   "metadata": {},
   "outputs": [
    {
     "data": {
      "text/plain": [
       "846.1288812511109"
      ]
     },
     "execution_count": 264,
     "metadata": {},
     "output_type": "execute_result"
    }
   ],
   "source": [
    "mean_absolute_error(Y_test,m22_pred)"
   ]
  },
  {
   "cell_type": "code",
   "execution_count": 300,
   "metadata": {},
   "outputs": [
    {
     "data": {
      "text/plain": [
       "0.5698461844666022"
      ]
     },
     "execution_count": 300,
     "metadata": {},
     "output_type": "execute_result"
    }
   ],
   "source": [
    "r2_score(Y_test,m22_pred)"
   ]
  },
  {
   "cell_type": "markdown",
   "metadata": {},
   "source": [
    "# Bagging on tunned model"
   ]
  },
  {
   "cell_type": "code",
   "execution_count": 248,
   "metadata": {},
   "outputs": [],
   "source": [
    "from sklearn.ensemble import BaggingRegressor"
   ]
  },
  {
   "cell_type": "code",
   "execution_count": 249,
   "metadata": {},
   "outputs": [],
   "source": [
    "bagg_f = BaggingRegressor(base_estimator=m22)"
   ]
  },
  {
   "cell_type": "code",
   "execution_count": 250,
   "metadata": {},
   "outputs": [
    {
     "data": {
      "text/plain": [
       "BaggingRegressor(base_estimator=Lasso(alpha=1, copy_X=True, fit_intercept=True, max_iter=1000,\n",
       "   normalize=False, positive=False, precompute=True, random_state=100,\n",
       "   selection='cyclic', tol=0.0001, warm_start=False),\n",
       "         bootstrap=True, bootstrap_features=False, max_features=1.0,\n",
       "         max_samples=1.0, n_estimators=10, n_jobs=1, oob_score=False,\n",
       "         random_state=None, verbose=0, warm_start=False)"
      ]
     },
     "execution_count": 250,
     "metadata": {},
     "output_type": "execute_result"
    }
   ],
   "source": [
    "bagg_f.fit(X_train,Y_train)"
   ]
  },
  {
   "cell_type": "code",
   "execution_count": 251,
   "metadata": {},
   "outputs": [],
   "source": [
    "bagg_pred = bagg_f.predict(X_test)"
   ]
  },
  {
   "cell_type": "code",
   "execution_count": 252,
   "metadata": {},
   "outputs": [
    {
     "name": "stdout",
     "output_type": "stream",
     "text": [
      "1140.2911612294952\n"
     ]
    }
   ],
   "source": [
    "rmse3 = sqrt(mean_squared_error(Y_test,bagg_pred))\n",
    "print(rmse3)"
   ]
  },
  {
   "cell_type": "code",
   "execution_count": 265,
   "metadata": {},
   "outputs": [
    {
     "data": {
      "text/plain": [
       "846.3235556345982"
      ]
     },
     "execution_count": 265,
     "metadata": {},
     "output_type": "execute_result"
    }
   ],
   "source": [
    "mean_absolute_error(Y_test,bagg_pred)"
   ]
  },
  {
   "cell_type": "code",
   "execution_count": 301,
   "metadata": {},
   "outputs": [
    {
     "data": {
      "text/plain": [
       "0.5695303442963213"
      ]
     },
     "execution_count": 301,
     "metadata": {},
     "output_type": "execute_result"
    }
   ],
   "source": [
    "r2_score(Y_test,bagg_pred)"
   ]
  },
  {
   "cell_type": "markdown",
   "metadata": {},
   "source": [
    "# Boosting on tunned model"
   ]
  },
  {
   "cell_type": "code",
   "execution_count": 253,
   "metadata": {},
   "outputs": [],
   "source": [
    "from sklearn.ensemble import AdaBoostRegressor"
   ]
  },
  {
   "cell_type": "code",
   "execution_count": 258,
   "metadata": {},
   "outputs": [],
   "source": [
    "boost = AdaBoostRegressor(base_estimator = m22)"
   ]
  },
  {
   "cell_type": "code",
   "execution_count": 259,
   "metadata": {},
   "outputs": [
    {
     "data": {
      "text/plain": [
       "AdaBoostRegressor(base_estimator=Lasso(alpha=1, copy_X=True, fit_intercept=True, max_iter=1000,\n",
       "   normalize=False, positive=False, precompute=True, random_state=100,\n",
       "   selection='cyclic', tol=0.0001, warm_start=False),\n",
       "         learning_rate=1.0, loss='linear', n_estimators=50,\n",
       "         random_state=None)"
      ]
     },
     "execution_count": 259,
     "metadata": {},
     "output_type": "execute_result"
    }
   ],
   "source": [
    "boost.fit(X_train,Y_train)"
   ]
  },
  {
   "cell_type": "code",
   "execution_count": 260,
   "metadata": {},
   "outputs": [],
   "source": [
    "boost_pred = boost.predict(X_test)"
   ]
  },
  {
   "cell_type": "code",
   "execution_count": 261,
   "metadata": {},
   "outputs": [
    {
     "name": "stdout",
     "output_type": "stream",
     "text": [
      "1170.9695873760998\n"
     ]
    }
   ],
   "source": [
    "rmse4 = sqrt(mean_squared_error(Y_test,boost_pred))\n",
    "print(rmse4)"
   ]
  },
  {
   "cell_type": "code",
   "execution_count": 266,
   "metadata": {},
   "outputs": [
    {
     "data": {
      "text/plain": [
       "884.917219057942"
      ]
     },
     "execution_count": 266,
     "metadata": {},
     "output_type": "execute_result"
    }
   ],
   "source": [
    "mean_absolute_error(Y_test,boost_pred)"
   ]
  },
  {
   "cell_type": "code",
   "execution_count": 302,
   "metadata": {},
   "outputs": [
    {
     "data": {
      "text/plain": [
       "0.5460560228826015"
      ]
     },
     "execution_count": 302,
     "metadata": {},
     "output_type": "execute_result"
    }
   ],
   "source": [
    "r2_score(Y_test,boost_pred)"
   ]
  },
  {
   "cell_type": "markdown",
   "metadata": {},
   "source": [
    "Therefore, going forward with basic lasso model as rmse and mae is least for it.!"
   ]
  },
  {
   "cell_type": "code",
   "execution_count": null,
   "metadata": {},
   "outputs": [],
   "source": []
  }
 ],
 "metadata": {
  "kernelspec": {
   "display_name": "Python 3",
   "language": "python",
   "name": "python3"
  },
  "language_info": {
   "codemirror_mode": {
    "name": "ipython",
    "version": 3
   },
   "file_extension": ".py",
   "mimetype": "text/x-python",
   "name": "python",
   "nbconvert_exporter": "python",
   "pygments_lexer": "ipython3",
   "version": "3.6.5"
  }
 },
 "nbformat": 4,
 "nbformat_minor": 2
}
